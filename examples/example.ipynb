{
 "cells": [
  {
   "cell_type": "code",
   "execution_count": 1,
   "metadata": {},
   "outputs": [
    {
     "name": "stdout",
     "output_type": "stream",
     "text": [
      "1.11.0\n"
     ]
    },
    {
     "data": {
      "text/plain": [
       "['SparseEfficiencyWarning',\n",
       " 'SparseWarning',\n",
       " '__all__',\n",
       " '__builtins__',\n",
       " '__cached__',\n",
       " '__doc__',\n",
       " '__file__',\n",
       " '__loader__',\n",
       " '__name__',\n",
       " '__package__',\n",
       " '__path__',\n",
       " '__spec__',\n",
       " '_base',\n",
       " '_bsr',\n",
       " '_compressed',\n",
       " '_construct',\n",
       " '_coo',\n",
       " '_csc',\n",
       " '_csparsetools',\n",
       " '_csr',\n",
       " '_data',\n",
       " '_dia',\n",
       " '_dok',\n",
       " '_extract',\n",
       " '_index',\n",
       " '_lil',\n",
       " '_matrix',\n",
       " '_matrix_io',\n",
       " '_sparsetools',\n",
       " '_sputils',\n",
       " '_warnings',\n",
       " 'base',\n",
       " 'block_diag',\n",
       " 'bmat',\n",
       " 'bsr',\n",
       " 'bsr_array',\n",
       " 'bsr_matrix',\n",
       " 'compressed',\n",
       " 'construct',\n",
       " 'coo',\n",
       " 'coo_array',\n",
       " 'coo_matrix',\n",
       " 'csc',\n",
       " 'csc_array',\n",
       " 'csc_matrix',\n",
       " 'csgraph',\n",
       " 'csr',\n",
       " 'csr_array',\n",
       " 'csr_matrix',\n",
       " 'data',\n",
       " 'dia',\n",
       " 'dia_array',\n",
       " 'dia_matrix',\n",
       " 'diags',\n",
       " 'dok',\n",
       " 'dok_array',\n",
       " 'dok_matrix',\n",
       " 'extract',\n",
       " 'eye',\n",
       " 'find',\n",
       " 'hstack',\n",
       " 'identity',\n",
       " 'issparse',\n",
       " 'isspmatrix',\n",
       " 'isspmatrix_bsr',\n",
       " 'isspmatrix_coo',\n",
       " 'isspmatrix_csc',\n",
       " 'isspmatrix_csr',\n",
       " 'isspmatrix_dia',\n",
       " 'isspmatrix_dok',\n",
       " 'isspmatrix_lil',\n",
       " 'kron',\n",
       " 'kronsum',\n",
       " 'lil',\n",
       " 'lil_array',\n",
       " 'lil_matrix',\n",
       " 'linalg',\n",
       " 'load_npz',\n",
       " 'rand',\n",
       " 'random',\n",
       " 'save_npz',\n",
       " 'sparray',\n",
       " 'sparsetools',\n",
       " 'spdiags',\n",
       " 'spmatrix',\n",
       " 'sputils',\n",
       " 'test',\n",
       " 'tril',\n",
       " 'triu',\n",
       " 'vstack']"
      ]
     },
     "execution_count": 1,
     "metadata": {},
     "output_type": "execute_result"
    }
   ],
   "source": [
    "import scipy.sparse as sparse\n",
    "import scipy\n",
    "print(scipy.__version__)\n",
    "dir(sparse)"
   ]
  },
  {
   "cell_type": "code",
   "execution_count": 2,
   "metadata": {},
   "outputs": [],
   "source": [
    "from GmGM.dataset import Dataset\n",
    "from GmGM.core.preprocessing import center, grammify\n",
    "from GmGM.core.core import calculate_eigenvectors, calculate_eigenvalues\n",
    "from GmGM.core.presparse_methods import recompose_sparse_precisions"
   ]
  }
 ],
 "metadata": {
  "kernelspec": {
   "display_name": "GmGM-arm",
   "language": "python",
   "name": "python3"
  },
  "language_info": {
   "codemirror_mode": {
    "name": "ipython",
    "version": 3
   },
   "file_extension": ".py",
   "mimetype": "text/x-python",
   "name": "python",
   "nbconvert_exporter": "python",
   "pygments_lexer": "ipython3",
   "version": "3.9.18"
  }
 },
 "nbformat": 4,
 "nbformat_minor": 2
}
