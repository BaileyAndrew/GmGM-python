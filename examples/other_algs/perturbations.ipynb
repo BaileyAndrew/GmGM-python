{
 "cells": [
  {
   "cell_type": "code",
   "execution_count": 1,
   "metadata": {},
   "outputs": [],
   "source": [
    "from GmGM import GmGM, Dataset\n",
    "import anndata as ad\n",
    "import scipy.sparse as sparse\n",
    "import scanpy as sc\n",
    "import numpy as np\n",
    "import dask.dataframe as dd\n",
    "import dask.array as da"
   ]
  },
  {
   "cell_type": "markdown",
   "metadata": {},
   "source": [
    "How to construct `data/adata.h5ad` (`data/adata_train.parquet` should come from composition website on Kaggle.)\n",
    "```python\n",
    "data = dd.read_parquet(\"../data/adata_train.parquet\")\n",
    "data[\"obs_id\"] = data[\"obs_id\"].astype(\"category\").cat.as_known()\n",
    "data[\"gene\"] = data[\"gene\"].astype(\"category\").cat.as_known()\n",
    "data[\"obs_code\"] = data[\"obs_id\"].cat.codes\n",
    "data[\"gene_code\"] = data[\"gene\"].cat.codes\n",
    "count_matrix = sparse.coo_array(\n",
    "    (\n",
    "        data[\"normalized_count\"].compute().values,\n",
    "        (data[\"obs_code\"].compute().values, data[\"gene_code\"].compute().values)\n",
    "    )\n",
    ")\n",
    "adata = ad.AnnData(\n",
    "    X=sparse.csr_matrix(count_matrix),\n",
    "    obs=data[\"obs_id\"].cat.categories.values.to_numpy(),\n",
    "    var=data[\"gene\"].cat.categories.values.to_numpy(),\n",
    ")\n",
    "adata.obs[\"obs_id\"] = adata.obs[0]\n",
    "adata.var[\"gene\"] = adata.var[0]\n",
    "```"
   ]
  },
  {
   "cell_type": "code",
   "execution_count": 2,
   "metadata": {},
   "outputs": [
    {
     "data": {
      "text/plain": [
       "AnnData object with n_obs × n_vars = 240090 × 21255\n",
       "    obs: 'obs_id'\n",
       "    var: 'gene'"
      ]
     },
     "execution_count": 2,
     "metadata": {},
     "output_type": "execute_result"
    }
   ],
   "source": [
    "adata = ad.read_h5ad(\"../data/adata.h5ad\")\n",
    "adata"
   ]
  },
  {
   "cell_type": "code",
   "execution_count": 3,
   "metadata": {},
   "outputs": [
    {
     "name": "stdout",
     "output_type": "stream",
     "text": [
      "Centering...\n",
      "Calculating eigenvectors...\n",
      "\tby calculating SVD...\n",
      "Calculating eigenvalues...\n",
      "@0: inf - Line Search Gave Up!\n",
      "Converged! (@0: inf)\n",
      "Recomposing sparse precisions...\n"
     ]
    },
    {
     "name": "stderr",
     "output_type": "stream",
     "text": [
      "/Users/baileyandrew/mambaforge/envs/GmGM-python-accelerate/lib/python3.9/site-packages/GmGM/core/core.py:407: RuntimeWarning: invalid value encountered in scalar subtract\n",
      "  err_diff: float = np.abs(prev_err - err)\n"
     ]
    },
    {
     "name": "stdout",
     "output_type": "stream",
     "text": [
      "Converting back to AnnData...\n"
     ]
    },
    {
     "data": {
      "text/plain": [
       "AnnData object with n_obs × n_vars = 240090 × 21255\n",
       "    obs: 'obs_id'\n",
       "    var: 'gene'\n",
       "    uns: 'obs_neighbors_gmgm', 'var_neighbors_gmgm'\n",
       "    obsp: 'obs_gmgm_connectivities'\n",
       "    varp: 'var_gmgm_connectivities'"
      ]
     },
     "execution_count": 3,
     "metadata": {},
     "output_type": "execute_result"
    }
   ],
   "source": [
    "GmGM(\n",
    "    adata,\n",
    "    to_keep={\n",
    "        \"obs\": 0,\n",
    "        \"var\": 0\n",
    "    },\n",
    "    n_comps=20,\n",
    "    verbose=True,\n",
    "    readonly=False,\n",
    "    # don't center so that data is not densified\n",
    "    centering_method=None\n",
    ")"
   ]
  },
  {
   "cell_type": "code",
   "execution_count": 4,
   "metadata": {},
   "outputs": [
    {
     "name": "stdout",
     "output_type": "stream",
     "text": [
      "Timing...\n"
     ]
    },
    {
     "name": "stderr",
     "output_type": "stream",
     "text": [
      "/Users/baileyandrew/mambaforge/envs/GmGM-python-accelerate/lib/python3.9/site-packages/GmGM/core/core.py:407: RuntimeWarning: invalid value encountered in scalar subtract\n",
      "  err_diff: float = np.abs(prev_err - err)\n"
     ]
    },
    {
     "name": "stdout",
     "output_type": "stream",
     "text": [
      "9min 43s ± 0 ns per loop (mean ± std. dev. of 1 run, 1 loop each)\n"
     ]
    }
   ],
   "source": [
    "# Reset...\n",
    "del adata\n",
    "adata = ad.read_h5ad(\"../data/adata.h5ad\")\n",
    "adata\n",
    "\n",
    "# Time\n",
    "print(\"Timing...\")\n",
    "%timeit -r 1 -n 1 GmGM(adata, to_keep={\"obs\": 0, \"var\": 0}, n_comps=20, readonly=False, centering_method=None)"
   ]
  },
  {
   "cell_type": "code",
   "execution_count": 5,
   "metadata": {},
   "outputs": [
    {
     "name": "stdout",
     "output_type": "stream",
     "text": [
      "Timing...\n",
      "3min 11s ± 0 ns per loop (mean ± std. dev. of 1 run, 1 loop each)\n"
     ]
    }
   ],
   "source": [
    "# Reset...\n",
    "del adata\n",
    "adata = ad.read_h5ad(\"../data/adata.h5ad\")\n",
    "adata\n",
    "\n",
    "# Time\n",
    "print(\"Timing...\")\n",
    "%timeit -r 1 -n 1 GmGM(adata, to_keep={\"obs\": 0, \"var\": 0}, n_comps=20, readonly=False, centering_method=None, dont_recompose={\"obs\"})"
   ]
  },
  {
   "cell_type": "code",
   "execution_count": 6,
   "metadata": {},
   "outputs": [],
   "source": [
    "del adata"
   ]
  }
 ],
 "metadata": {
  "kernelspec": {
   "display_name": "GmGM-python-demo",
   "language": "python",
   "name": "python3"
  },
  "language_info": {
   "codemirror_mode": {
    "name": "ipython",
    "version": 3
   },
   "file_extension": ".py",
   "mimetype": "text/x-python",
   "name": "python",
   "nbconvert_exporter": "python",
   "pygments_lexer": "ipython3",
   "version": "3.9.16"
  }
 },
 "nbformat": 4,
 "nbformat_minor": 2
}
