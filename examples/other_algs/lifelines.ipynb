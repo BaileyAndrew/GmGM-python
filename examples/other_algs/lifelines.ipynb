{
 "cells": [
  {
   "cell_type": "markdown",
   "metadata": {},
   "source": [
    "Note: this example requires data from the LifeLines-DEEP project; you have to request access from them. (https://pubmed.ncbi.nlm.nih.gov/26319774/)"
   ]
  },
  {
   "cell_type": "code",
   "execution_count": 1,
   "metadata": {},
   "outputs": [
    {
     "name": "stderr",
     "output_type": "stream",
     "text": [
      "/Users/baileyandrew/mambaforge/envs/GmGM-python-demo/lib/python3.9/site-packages/umap/distances.py:1063: NumbaDeprecationWarning: The 'nopython' keyword argument was not supplied to the 'numba.jit' decorator. The implicit default value for this argument is currently False, but it will be changed to True in Numba 0.59.0. See https://numba.readthedocs.io/en/stable/reference/deprecation.html#deprecation-of-object-mode-fall-back-behaviour-when-using-jit for details.\n",
      "  @numba.jit()\n",
      "/Users/baileyandrew/mambaforge/envs/GmGM-python-demo/lib/python3.9/site-packages/umap/distances.py:1071: NumbaDeprecationWarning: The 'nopython' keyword argument was not supplied to the 'numba.jit' decorator. The implicit default value for this argument is currently False, but it will be changed to True in Numba 0.59.0. See https://numba.readthedocs.io/en/stable/reference/deprecation.html#deprecation-of-object-mode-fall-back-behaviour-when-using-jit for details.\n",
      "  @numba.jit()\n",
      "/Users/baileyandrew/mambaforge/envs/GmGM-python-demo/lib/python3.9/site-packages/umap/distances.py:1086: NumbaDeprecationWarning: The 'nopython' keyword argument was not supplied to the 'numba.jit' decorator. The implicit default value for this argument is currently False, but it will be changed to True in Numba 0.59.0. See https://numba.readthedocs.io/en/stable/reference/deprecation.html#deprecation-of-object-mode-fall-back-behaviour-when-using-jit for details.\n",
      "  @numba.jit()\n",
      "/Users/baileyandrew/mambaforge/envs/GmGM-python-demo/lib/python3.9/site-packages/tqdm/auto.py:21: TqdmWarning: IProgress not found. Please update jupyter and ipywidgets. See https://ipywidgets.readthedocs.io/en/stable/user_install.html\n",
      "  from .autonotebook import tqdm as notebook_tqdm\n",
      "/Users/baileyandrew/mambaforge/envs/GmGM-python-demo/lib/python3.9/site-packages/umap/umap_.py:660: NumbaDeprecationWarning: The 'nopython' keyword argument was not supplied to the 'numba.jit' decorator. The implicit default value for this argument is currently False, but it will be changed to True in Numba 0.59.0. See https://numba.readthedocs.io/en/stable/reference/deprecation.html#deprecation-of-object-mode-fall-back-behaviour-when-using-jit for details.\n",
      "  @numba.jit()\n"
     ]
    }
   ],
   "source": [
    "from TeraLasso import TeraLasso\n",
    "from EiGLasso import EiGLasso\n",
    "from GmGM import GmGM, Dataset\n",
    "from GmGM.synthetic.generate_data import threshold_dictionary\n",
    "\n",
    "import matplotlib.pyplot as plt\n",
    "import numpy as np\n",
    "import timeit\n",
    "\n",
    "from cycler import cycler\n",
    "linestyle_cycler = cycler('linestyle',['-','--',':','-.'])\n",
    "color_cycler = cycler('color',['k','orange','m','darkgreen'])\n",
    "plt.rc('axes', prop_cycle=linestyle_cycler + color_cycler)\n",
    "\n",
    "import igraph as ig\n",
    "import pandas as pd\n",
    "\n",
    "import muon as mu\n",
    "import anndata as ad\n",
    "import scanpy as sc\n",
    "from anndata import AnnData\n",
    "import sklearn.cluster as clust\n",
    "\n",
    "from typing import Literal, Union"
   ]
  },
  {
   "cell_type": "markdown",
   "metadata": {},
   "source": [
    "# Setup"
   ]
  },
  {
   "cell_type": "markdown",
   "metadata": {},
   "source": [
    "## Helper Functions"
   ]
  },
  {
   "cell_type": "code",
   "execution_count": 2,
   "metadata": {},
   "outputs": [],
   "source": [
    "def calculate_assortativity(\n",
    "    mudata: Union[mu.MuData, ad.AnnData],\n",
    ") -> dict[Literal[\"Phylum\", \"Class\", \"Order\", \"Family\", \"Genus\"], float]:\n",
    "    global taxmat\n",
    "    if isinstance(mudata, mu.MuData):\n",
    "        precmat = mudata[\"metagenomics_shotgun\"].varp[\n",
    "            \"metagenomics_shotgun-var_gmgm_connectivities\"\n",
    "        ].toarray()\n",
    "    elif isinstance(mudata, ad.AnnData):\n",
    "        precmat = mudata.varp[\n",
    "            \"var_gmgm_connectivities\"\n",
    "        ].toarray()\n",
    "    else:\n",
    "        raise ValueError(\"mudata must be of type mu.MuData or anndata.AnnData\")\n",
    "    g = ig.Graph.Adjacency(\n",
    "        precmat != 0,\n",
    "        mode=\"undirected\",\n",
    "        loops=False\n",
    "    )\n",
    "    return {\n",
    "        tax_level: g.assortativity(taxmat[tax_level].cat.codes-1)\n",
    "        for tax_level in [\"Phylum\", \"Class\", \"Order\", \"Family\", \"Genus\"]\n",
    "    }"
   ]
  },
  {
   "cell_type": "markdown",
   "metadata": {},
   "source": [
    "## Load Data"
   ]
  },
  {
   "cell_type": "code",
   "execution_count": 3,
   "metadata": {},
   "outputs": [],
   "source": [
    "# Get the taxa\n",
    "taxmat = pd.read_csv(\"../data/LL-Deep Data - Processed/ll-deep-taxmat.csv\", index_col=0)\n",
    "taxmat.columns = [\"Domain\", \"Phylum\", \"Class\", \"Order\", \"Family\", \"Genus\"]\n",
    "taxmat = taxmat.fillna(\"Unknown\")\n",
    "taxmat = taxmat.apply(lambda x: x.astype(\"category\"))"
   ]
  },
  {
   "cell_type": "code",
   "execution_count": 4,
   "metadata": {},
   "outputs": [
    {
     "name": "stdout",
     "output_type": "stream",
     "text": [
      "(1054, 3)\n",
      "(1054, 1183)\n",
      "(1054, 3957) -> (1054, 564)\n"
     ]
    }
   ],
   "source": [
    "# Read in the mapping linking person ids from metabolomics and metagenomics\n",
    "# (we actually constructed the latter two datasets such that the nth row matches\n",
    "# up in all of them - but this still contains gender info)\n",
    "map_df = pd.read_csv(\n",
    "    \"../data/LL-Deep Data - Processed/Map.csv\",\n",
    "    index_col=0\n",
    ")\n",
    "print(map_df.shape)\n",
    "\n",
    "# Read in the metabolomics data\n",
    "metabolomics_df = pd.read_csv(\n",
    "    \"../data/LL-Deep Data - Processed/Metabolomics.csv\",\n",
    "    index_col=0\n",
    ")\n",
    "print(metabolomics_df.shape)\n",
    "\n",
    "# Read in the metagenomics data\n",
    "metagenomics_df = pd.read_csv(\n",
    "    \"../data/LL-Deep Data - Processed/MetagenomicsShotgun.csv\",\n",
    "    index_col=0\n",
    ")\n",
    "old_shape = metagenomics_df.shape\n",
    "\n",
    "# Only keep the species who appear in more than 20% of the people\n",
    "#keep_idxs = ((counts > 0).sum(axis=0) > 0.2 * counts.shape[0]).values\n",
    "#counts = counts.loc[:, keep_idxs]\n",
    "#taxmat = taxmat.loc[keep_idxs, :]\n",
    "keep_idxs = (metagenomics_df > 0).sum(axis=0) > 0.2 * metagenomics_df.shape[0]\n",
    "metagenomics_df = metagenomics_df.loc[:, keep_idxs]\n",
    "taxmat = taxmat.loc[keep_idxs.values, :]\n",
    "\n",
    "print(old_shape, '->', metagenomics_df.shape)"
   ]
  },
  {
   "cell_type": "code",
   "execution_count": 5,
   "metadata": {},
   "outputs": [],
   "source": [
    "# Load our data into a MuData object\n",
    "metabol_ann = AnnData(\n",
    "    X = metabolomics_df.to_numpy()\n",
    ")\n",
    "metabol_ann.obs_names = metabolomics_df.index\n",
    "metabol_ann.var_names = metabolomics_df.columns\n",
    "\n",
    "metagen_ann = AnnData(\n",
    "    X = metagenomics_df.to_numpy()\n",
    ")\n",
    "metagen_ann.obs_names = metabolomics_df.index # note this is the same as metabolomics\n",
    "metagen_ann.var_names = metagenomics_df.columns\n",
    "\n",
    "mudata = mu.MuData({\n",
    "    \"metabolomics\": metabol_ann,\n",
    "    \"metagenomics_shotgun\": metagen_ann\n",
    "})\n",
    "\n",
    "mudata.obs[\"Gender\"] = map_df[\"Gender\"].to_numpy()\n",
    "\n",
    "# Log transform the data\n",
    "sc.pp.log1p(mudata[\"metabolomics\"])\n",
    "sc.pp.log1p(mudata[\"metagenomics_shotgun\"])"
   ]
  },
  {
   "cell_type": "markdown",
   "metadata": {},
   "source": [
    "# GmGM"
   ]
  },
  {
   "cell_type": "markdown",
   "metadata": {},
   "source": [
    "## w/o nonpara"
   ]
  },
  {
   "cell_type": "code",
   "execution_count": 6,
   "metadata": {},
   "outputs": [
    {
     "name": "stdout",
     "output_type": "stream",
     "text": [
      "Centering...\n",
      "Calculating eigenvectors...\n",
      "\tby calculating gram matrices and then eigendecomposing...\n",
      "Calculating eigenvectors for axis='obs'\n",
      "Calculating eigenvectors for axis='metagenomics_shotgun-var'\n",
      "Calculating eigenvectors for axis='metabolomics-var'\n",
      "Calculating eigenvalues...\n",
      "@0: -1834610.2475790898 (-1834616.8682274285 + 6.620648338769194 + 0) ∆inf\n",
      "Converged! (@14: -1955700.7343906139)\n",
      "Recomposing sparse precisions...\n",
      "Converting back to MuData...\n"
     ]
    },
    {
     "data": {
      "text/html": [
       "<pre>MuData object with n_obs × n_vars = 1054 × 1747\n",
       "  obs:\t&#x27;Gender&#x27;\n",
       "  uns:\t&#x27;obs_neighbors_gmgm&#x27;\n",
       "  obsp:\t&#x27;obs_gmgm_connectivities&#x27;\n",
       "  2 modalities\n",
       "    metabolomics:\t1054 x 1183\n",
       "      uns:\t&#x27;log1p&#x27;, &#x27;metabolomics-var_neighbors_gmgm&#x27;\n",
       "      varp:\t&#x27;metabolomics-var_gmgm_connectivities&#x27;\n",
       "    metagenomics_shotgun:\t1054 x 564\n",
       "      uns:\t&#x27;log1p&#x27;, &#x27;metagenomics_shotgun-var_neighbors_gmgm&#x27;\n",
       "      varp:\t&#x27;metagenomics_shotgun-var_gmgm_connectivities&#x27;</pre>"
      ],
      "text/plain": [
       "MuData object with n_obs × n_vars = 1054 × 1747\n",
       "  obs:\t'Gender'\n",
       "  uns:\t'obs_neighbors_gmgm'\n",
       "  obsp:\t'obs_gmgm_connectivities'\n",
       "  2 modalities\n",
       "    metabolomics:\t1054 x 1183\n",
       "      uns:\t'log1p', 'metabolomics-var_neighbors_gmgm'\n",
       "      varp:\t'metabolomics-var_gmgm_connectivities'\n",
       "    metagenomics_shotgun:\t1054 x 564\n",
       "      uns:\t'log1p', 'metagenomics_shotgun-var_neighbors_gmgm'\n",
       "      varp:\t'metagenomics_shotgun-var_gmgm_connectivities'"
      ]
     },
     "execution_count": 6,
     "metadata": {},
     "output_type": "execute_result"
    }
   ],
   "source": [
    "GmGM(\n",
    "    mudata,\n",
    "    verbose=True,\n",
    "    #use_nonparanormal_skeptic=True,\n",
    "    #nonparanormal_evec_backend=\"COCA\",\n",
    "    #n_comps=50,\n",
    "    to_keep={\n",
    "        \"metabolomics-var\": 1183 / 1183**2,\n",
    "        \"metagenomics_shotgun-var\": 564 / 564**2,\n",
    "        \"obs\": 1200 / 1054**2\n",
    "    },\n",
    "    random_state=1,\n",
    "    threshold_method=\"overall\",\n",
    ")"
   ]
  },
  {
   "cell_type": "code",
   "execution_count": 7,
   "metadata": {},
   "outputs": [
    {
     "data": {
      "text/plain": [
       "{'Phylum': -0.021649610719968463,\n",
       " 'Class': -0.06197070129673916,\n",
       " 'Order': -0.18903785084844535,\n",
       " 'Family': -0.01615142857896596,\n",
       " 'Genus': -0.03081067929473613}"
      ]
     },
     "execution_count": 7,
     "metadata": {},
     "output_type": "execute_result"
    }
   ],
   "source": [
    "calculate_assortativity(mudata)"
   ]
  },
  {
   "cell_type": "code",
   "execution_count": 8,
   "metadata": {},
   "outputs": [
    {
     "data": {
      "text/plain": [
       "0.9827490333000007"
      ]
     },
     "execution_count": 8,
     "metadata": {},
     "output_type": "execute_result"
    }
   ],
   "source": [
    "def to_time() -> None:\n",
    "    GmGM(\n",
    "        mudata,\n",
    "        #use_nonparanormal_skeptic=True,\n",
    "        #nonparanormal_evec_backend=\"COCA\",\n",
    "        #n_comps=50,\n",
    "        to_keep={\n",
    "            \"metabolomics-var\": 1183 / 1183**2,\n",
    "            \"metagenomics_shotgun-var\": 564 / 564**2,\n",
    "            \"obs\": 1200 / 1054**2\n",
    "        },\n",
    "        threshold_method=\"overall\"\n",
    "    )\n",
    "\n",
    "np.mean(timeit.repeat(to_time, number=1, repeat=10))"
   ]
  },
  {
   "cell_type": "markdown",
   "metadata": {},
   "source": [
    "## w/ nonpara"
   ]
  },
  {
   "cell_type": "code",
   "execution_count": 9,
   "metadata": {},
   "outputs": [
    {
     "name": "stdout",
     "output_type": "stream",
     "text": [
      "Centering...\n",
      "Calculating eigenvectors...\n",
      "\tby calculating gram matrices and then eigendecomposing...\n",
      "Calculating eigenvectors for axis='obs'\n",
      "Calculating eigenvectors for axis='metagenomics_shotgun-var'\n",
      "Calculating eigenvectors for axis='metabolomics-var'\n",
      "Calculating eigenvalues...\n",
      "@0: -1835146.444140518 (-1835152.198621132 + 5.754480613893504 + 0) ∆inf\n",
      "Converged! (@14: -1983139.8097202543)\n",
      "Recomposing sparse precisions...\n",
      "Converting back to MuData...\n"
     ]
    },
    {
     "data": {
      "text/html": [
       "<pre>MuData object with n_obs × n_vars = 1054 × 1747\n",
       "  obs:\t&#x27;Gender&#x27;\n",
       "  uns:\t&#x27;obs_neighbors_gmgm&#x27;\n",
       "  obsp:\t&#x27;obs_gmgm_connectivities&#x27;\n",
       "  2 modalities\n",
       "    metabolomics:\t1054 x 1183\n",
       "      uns:\t&#x27;log1p&#x27;, &#x27;metabolomics-var_neighbors_gmgm&#x27;\n",
       "      varp:\t&#x27;metabolomics-var_gmgm_connectivities&#x27;\n",
       "    metagenomics_shotgun:\t1054 x 564\n",
       "      uns:\t&#x27;log1p&#x27;, &#x27;metagenomics_shotgun-var_neighbors_gmgm&#x27;\n",
       "      varp:\t&#x27;metagenomics_shotgun-var_gmgm_connectivities&#x27;</pre>"
      ],
      "text/plain": [
       "MuData object with n_obs × n_vars = 1054 × 1747\n",
       "  obs:\t'Gender'\n",
       "  uns:\t'obs_neighbors_gmgm'\n",
       "  obsp:\t'obs_gmgm_connectivities'\n",
       "  2 modalities\n",
       "    metabolomics:\t1054 x 1183\n",
       "      uns:\t'log1p', 'metabolomics-var_neighbors_gmgm'\n",
       "      varp:\t'metabolomics-var_gmgm_connectivities'\n",
       "    metagenomics_shotgun:\t1054 x 564\n",
       "      uns:\t'log1p', 'metagenomics_shotgun-var_neighbors_gmgm'\n",
       "      varp:\t'metagenomics_shotgun-var_gmgm_connectivities'"
      ]
     },
     "execution_count": 9,
     "metadata": {},
     "output_type": "execute_result"
    }
   ],
   "source": [
    "GmGM(\n",
    "    mudata,\n",
    "    verbose=True,\n",
    "    use_nonparanormal_skeptic=True,\n",
    "    #nonparanormal_evec_backend=\"COCA\",\n",
    "    #n_comps=50,\n",
    "    to_keep={\n",
    "        \"metabolomics-var\": 1183 / 1183**2,\n",
    "        \"metagenomics_shotgun-var\": 564 / 564**2,\n",
    "        \"obs\": 1200 / 1054**2\n",
    "    },\n",
    "    threshold_method=\"overall\",\n",
    "    random_state=1\n",
    ")"
   ]
  },
  {
   "cell_type": "code",
   "execution_count": 10,
   "metadata": {},
   "outputs": [
    {
     "data": {
      "text/plain": [
       "{'Phylum': -0.04382048233715373,\n",
       " 'Class': -0.08540100047093065,\n",
       " 'Order': -0.1049426423563925,\n",
       " 'Family': -0.0333123983701039,\n",
       " 'Genus': -0.0561269868760198}"
      ]
     },
     "execution_count": 10,
     "metadata": {},
     "output_type": "execute_result"
    }
   ],
   "source": [
    "calculate_assortativity(mudata)"
   ]
  },
  {
   "cell_type": "code",
   "execution_count": 11,
   "metadata": {},
   "outputs": [
    {
     "data": {
      "text/plain": [
       "1.1881129832999995"
      ]
     },
     "execution_count": 11,
     "metadata": {},
     "output_type": "execute_result"
    }
   ],
   "source": [
    "def to_time() -> None:\n",
    "    GmGM(\n",
    "        mudata,\n",
    "        use_nonparanormal_skeptic=True,\n",
    "        #nonparanormal_evec_backend=\"COCA\",\n",
    "        #n_comps=50,\n",
    "        to_keep={\n",
    "            \"metabolomics-var\": 1183 / 1183**2,\n",
    "            \"metagenomics_shotgun-var\": 564 / 564**2,\n",
    "            \"obs\": 1200 / 1054**2\n",
    "        },\n",
    "        threshold_method=\"overall\"\n",
    "    )\n",
    "\n",
    "np.mean(timeit.repeat(to_time, number=1, repeat=10))"
   ]
  },
  {
   "cell_type": "markdown",
   "metadata": {},
   "source": [
    "## w/o nonpara, 50pc"
   ]
  },
  {
   "cell_type": "code",
   "execution_count": 12,
   "metadata": {},
   "outputs": [
    {
     "name": "stdout",
     "output_type": "stream",
     "text": [
      "Centering...\n",
      "Calculating eigenvectors...\n",
      "\tby calculating left eigenvectors of concatenated matricizations...\n",
      "Calculating eigenvalues...\n",
      "@0: 15500398.362697743 (-3379.8910024504357 + 15503778.253700193 + 0) ∆inf\n",
      "Converged! (@16: 11423130.265023768)\n",
      "Recomposing sparse precisions...\n",
      "Converting back to MuData...\n"
     ]
    },
    {
     "data": {
      "text/html": [
       "<pre>MuData object with n_obs × n_vars = 1054 × 1747\n",
       "  obs:\t&#x27;Gender&#x27;\n",
       "  uns:\t&#x27;obs_neighbors_gmgm&#x27;\n",
       "  obsp:\t&#x27;obs_gmgm_connectivities&#x27;\n",
       "  2 modalities\n",
       "    metabolomics:\t1054 x 1183\n",
       "      uns:\t&#x27;log1p&#x27;, &#x27;metabolomics-var_neighbors_gmgm&#x27;\n",
       "      varp:\t&#x27;metabolomics-var_gmgm_connectivities&#x27;\n",
       "    metagenomics_shotgun:\t1054 x 564\n",
       "      uns:\t&#x27;log1p&#x27;, &#x27;metagenomics_shotgun-var_neighbors_gmgm&#x27;\n",
       "      varp:\t&#x27;metagenomics_shotgun-var_gmgm_connectivities&#x27;</pre>"
      ],
      "text/plain": [
       "MuData object with n_obs × n_vars = 1054 × 1747\n",
       "  obs:\t'Gender'\n",
       "  uns:\t'obs_neighbors_gmgm'\n",
       "  obsp:\t'obs_gmgm_connectivities'\n",
       "  2 modalities\n",
       "    metabolomics:\t1054 x 1183\n",
       "      uns:\t'log1p', 'metabolomics-var_neighbors_gmgm'\n",
       "      varp:\t'metabolomics-var_gmgm_connectivities'\n",
       "    metagenomics_shotgun:\t1054 x 564\n",
       "      uns:\t'log1p', 'metagenomics_shotgun-var_neighbors_gmgm'\n",
       "      varp:\t'metagenomics_shotgun-var_gmgm_connectivities'"
      ]
     },
     "execution_count": 12,
     "metadata": {},
     "output_type": "execute_result"
    }
   ],
   "source": [
    "GmGM(\n",
    "    mudata,\n",
    "    verbose=True,\n",
    "    #use_nonparanormal_skeptic=True,\n",
    "    #nonparanormal_evec_backend=\"COCA\",\n",
    "    n_comps=50,\n",
    "    to_keep={\n",
    "        \"metabolomics-var\": 1183 / 1183**2,\n",
    "        \"metagenomics_shotgun-var\": 564 / 564**2,\n",
    "        \"obs\": 1200 / 1054**2\n",
    "    },\n",
    "    threshold_method=\"overall\",\n",
    "    random_state=1\n",
    ")"
   ]
  },
  {
   "cell_type": "code",
   "execution_count": 13,
   "metadata": {},
   "outputs": [
    {
     "data": {
      "text/plain": [
       "{'Phylum': 0.2614525267515359,\n",
       " 'Class': 0.19958371360377242,\n",
       " 'Order': 0.04892395118395965,\n",
       " 'Family': 0.0016404972759645417,\n",
       " 'Genus': 0.04649678763718945}"
      ]
     },
     "execution_count": 13,
     "metadata": {},
     "output_type": "execute_result"
    }
   ],
   "source": [
    "calculate_assortativity(mudata)"
   ]
  },
  {
   "cell_type": "code",
   "execution_count": 14,
   "metadata": {},
   "outputs": [
    {
     "data": {
      "text/plain": [
       "1.2414448541999987"
      ]
     },
     "execution_count": 14,
     "metadata": {},
     "output_type": "execute_result"
    }
   ],
   "source": [
    "def to_time() -> None:\n",
    "    GmGM(\n",
    "        mudata,\n",
    "        #use_nonparanormal_skeptic=True,\n",
    "        #nonparanormal_evec_backend=\"COCA\",\n",
    "        n_comps=50,\n",
    "        to_keep={\n",
    "            \"metabolomics-var\": 1183 / 1183**2,\n",
    "            \"metagenomics_shotgun-var\": 564 / 564**2,\n",
    "            \"obs\": 1200 / 1054**2\n",
    "        },\n",
    "        threshold_method=\"overall\"\n",
    "    )\n",
    "\n",
    "np.mean(timeit.repeat(to_time, number=1, repeat=10))"
   ]
  },
  {
   "cell_type": "markdown",
   "metadata": {},
   "source": [
    "## w/ nonpara, 50pc"
   ]
  },
  {
   "cell_type": "code",
   "execution_count": 15,
   "metadata": {},
   "outputs": [
    {
     "name": "stdout",
     "output_type": "stream",
     "text": [
      "Centering...\n",
      "Calculating eigenvectors...\n",
      "\tby calculating left eigenvectors of concatenated matricizations...\n",
      "Calculating eigenvalues...\n",
      "@0: 2300528.906273792 (-3457.1874391253486 + 2303986.0937129175 + 0) ∆inf\n",
      "Converged! (@25: 1190751.3934725346)\n",
      "Recomposing sparse precisions...\n",
      "Converting back to MuData...\n"
     ]
    },
    {
     "data": {
      "text/html": [
       "<pre>MuData object with n_obs × n_vars = 1054 × 1747\n",
       "  obs:\t&#x27;Gender&#x27;\n",
       "  uns:\t&#x27;obs_neighbors_gmgm&#x27;\n",
       "  obsp:\t&#x27;obs_gmgm_connectivities&#x27;\n",
       "  2 modalities\n",
       "    metabolomics:\t1054 x 1183\n",
       "      uns:\t&#x27;log1p&#x27;, &#x27;metabolomics-var_neighbors_gmgm&#x27;\n",
       "      varp:\t&#x27;metabolomics-var_gmgm_connectivities&#x27;\n",
       "    metagenomics_shotgun:\t1054 x 564\n",
       "      uns:\t&#x27;log1p&#x27;, &#x27;metagenomics_shotgun-var_neighbors_gmgm&#x27;\n",
       "      varp:\t&#x27;metagenomics_shotgun-var_gmgm_connectivities&#x27;</pre>"
      ],
      "text/plain": [
       "MuData object with n_obs × n_vars = 1054 × 1747\n",
       "  obs:\t'Gender'\n",
       "  uns:\t'obs_neighbors_gmgm'\n",
       "  obsp:\t'obs_gmgm_connectivities'\n",
       "  2 modalities\n",
       "    metabolomics:\t1054 x 1183\n",
       "      uns:\t'log1p', 'metabolomics-var_neighbors_gmgm'\n",
       "      varp:\t'metabolomics-var_gmgm_connectivities'\n",
       "    metagenomics_shotgun:\t1054 x 564\n",
       "      uns:\t'log1p', 'metagenomics_shotgun-var_neighbors_gmgm'\n",
       "      varp:\t'metagenomics_shotgun-var_gmgm_connectivities'"
      ]
     },
     "execution_count": 15,
     "metadata": {},
     "output_type": "execute_result"
    }
   ],
   "source": [
    "GmGM(\n",
    "    mudata,\n",
    "    verbose=True,\n",
    "    use_nonparanormal_skeptic=True,\n",
    "    nonparanormal_evec_backend=\"COCA\",\n",
    "    n_comps=50,\n",
    "    to_keep={\n",
    "        \"metabolomics-var\": 1183 / 1183**2,\n",
    "        \"metagenomics_shotgun-var\": 564 / 564**2,\n",
    "        \"obs\": 1200 / 1054**2\n",
    "    },\n",
    "    threshold_method=\"overall\",\n",
    "    random_state=1\n",
    ")"
   ]
  },
  {
   "cell_type": "code",
   "execution_count": 16,
   "metadata": {},
   "outputs": [
    {
     "data": {
      "text/plain": [
       "{'Phylum': 0.19683212057690364,\n",
       " 'Class': 0.13712360953919286,\n",
       " 'Order': -0.039131192939536666,\n",
       " 'Family': -0.05088236648443,\n",
       " 'Genus': 0.003559361329858003}"
      ]
     },
     "execution_count": 16,
     "metadata": {},
     "output_type": "execute_result"
    }
   ],
   "source": [
    "calculate_assortativity(mudata)"
   ]
  },
  {
   "cell_type": "code",
   "execution_count": 17,
   "metadata": {},
   "outputs": [
    {
     "data": {
      "text/plain": [
       "7.8899044585"
      ]
     },
     "execution_count": 17,
     "metadata": {},
     "output_type": "execute_result"
    }
   ],
   "source": [
    "def to_time() -> None:\n",
    "    GmGM(\n",
    "        mudata,\n",
    "        use_nonparanormal_skeptic=True,\n",
    "        nonparanormal_evec_backend=\"COCA\",\n",
    "        n_comps=50,\n",
    "        to_keep={\n",
    "            \"metabolomics-var\": 1183 / 1183**2,\n",
    "            \"metagenomics_shotgun-var\": 564 / 564**2,\n",
    "            \"obs\": 1200 / 1054**2\n",
    "        },\n",
    "        threshold_method=\"overall\"\n",
    "    )\n",
    "\n",
    "np.mean(timeit.repeat(to_time, number=1, repeat=10))"
   ]
  },
  {
   "cell_type": "markdown",
   "metadata": {},
   "source": [
    "## w/o nonpara w/o metabol"
   ]
  },
  {
   "cell_type": "code",
   "execution_count": 18,
   "metadata": {},
   "outputs": [
    {
     "name": "stdout",
     "output_type": "stream",
     "text": [
      "Centering...\n",
      "Calculating eigenvectors...\n",
      "\tby calculating gram matrices and then eigendecomposing...\n",
      "Calculating eigenvectors for axis='obs'\n",
      "Calculating eigenvectors for axis='var'\n",
      "Calculating eigenvalues...\n",
      "@0: -566088.016171067 (-566094.2859140849 + 6.269743017843583 + 0) ∆inf\n",
      "Converged! (@10: -589782.8896450901)\n",
      "Recomposing sparse precisions...\n",
      "Converting back to AnnData...\n"
     ]
    },
    {
     "data": {
      "text/plain": [
       "AnnData object with n_obs × n_vars = 1054 × 564\n",
       "    uns: 'log1p', 'metagenomics_shotgun-var_neighbors_gmgm', 'obs_neighbors_gmgm', 'var_neighbors_gmgm'\n",
       "    obsp: 'obs_gmgm_connectivities'\n",
       "    varp: 'metagenomics_shotgun-var_gmgm_connectivities', 'var_gmgm_connectivities'"
      ]
     },
     "execution_count": 18,
     "metadata": {},
     "output_type": "execute_result"
    }
   ],
   "source": [
    "GmGM(\n",
    "    mudata[\"metagenomics_shotgun\"],\n",
    "    verbose=True,\n",
    "    #use_nonparanormal_skeptic=True,\n",
    "    #nonparanormal_evec_backend=\"COCA\",\n",
    "    #n_comps=50,\n",
    "    to_keep={\n",
    "        \"var\": 564 / 564**2,\n",
    "        \"obs\": 1200 / 1054**2\n",
    "    },\n",
    "    threshold_method=\"overall\",\n",
    "    random_state=1\n",
    ")"
   ]
  },
  {
   "cell_type": "code",
   "execution_count": 19,
   "metadata": {},
   "outputs": [
    {
     "data": {
      "text/plain": [
       "{'Phylum': -0.021649610719968463,\n",
       " 'Class': -0.06197070129673916,\n",
       " 'Order': -0.18903785084844535,\n",
       " 'Family': -0.01615142857896596,\n",
       " 'Genus': -0.03081067929473613}"
      ]
     },
     "execution_count": 19,
     "metadata": {},
     "output_type": "execute_result"
    }
   ],
   "source": [
    "calculate_assortativity(mudata[\"metagenomics_shotgun\"])"
   ]
  },
  {
   "cell_type": "code",
   "execution_count": 20,
   "metadata": {},
   "outputs": [
    {
     "data": {
      "text/plain": [
       "0.4672064041000027"
      ]
     },
     "execution_count": 20,
     "metadata": {},
     "output_type": "execute_result"
    }
   ],
   "source": [
    "def to_time() -> None:\n",
    "    GmGM(\n",
    "        mudata[\"metagenomics_shotgun\"],\n",
    "        #use_nonparanormal_skeptic=True,\n",
    "        #nonparanormal_evec_backend=\"COCA\",\n",
    "        #n_comps=50,\n",
    "        to_keep={\n",
    "            \"var\": 564 / 564**2,\n",
    "            \"obs\": 1200 / 1054**2\n",
    "        },\n",
    "        threshold_method=\"overall\"\n",
    "    )\n",
    "\n",
    "np.mean(timeit.repeat(to_time, number=1, repeat=10))"
   ]
  },
  {
   "cell_type": "markdown",
   "metadata": {},
   "source": [
    "## w/ nonpara, w/o metabol"
   ]
  },
  {
   "cell_type": "code",
   "execution_count": 21,
   "metadata": {},
   "outputs": [
    {
     "name": "stdout",
     "output_type": "stream",
     "text": [
      "Centering...\n",
      "Calculating eigenvectors...\n",
      "\tby calculating gram matrices and then eigendecomposing...\n",
      "Calculating eigenvectors for axis='obs'\n",
      "Calculating eigenvectors for axis='var'\n",
      "Calculating eigenvalues...\n",
      "@0: -566118.05331034 (-566124.2453072045 + 6.191996864548244 + 0) ∆inf\n",
      "Converged! (@11: -590597.1354492947)\n",
      "Recomposing sparse precisions...\n",
      "Converting back to AnnData...\n"
     ]
    },
    {
     "data": {
      "text/plain": [
       "AnnData object with n_obs × n_vars = 1054 × 564\n",
       "    uns: 'log1p', 'metagenomics_shotgun-var_neighbors_gmgm', 'obs_neighbors_gmgm', 'var_neighbors_gmgm'\n",
       "    obsp: 'obs_gmgm_connectivities'\n",
       "    varp: 'metagenomics_shotgun-var_gmgm_connectivities', 'var_gmgm_connectivities'"
      ]
     },
     "execution_count": 21,
     "metadata": {},
     "output_type": "execute_result"
    }
   ],
   "source": [
    "GmGM(\n",
    "    mudata[\"metagenomics_shotgun\"],\n",
    "    verbose=True,\n",
    "    use_nonparanormal_skeptic=True,\n",
    "    #nonparanormal_evec_backend=\"COCA\",\n",
    "    #n_comps=50,\n",
    "    to_keep={\n",
    "        \"var\": 564 / 564**2,\n",
    "        \"obs\": 1200 / 1054**2\n",
    "    },\n",
    "    threshold_method=\"overall\",\n",
    "    random_state=1\n",
    ")"
   ]
  },
  {
   "cell_type": "code",
   "execution_count": 22,
   "metadata": {},
   "outputs": [
    {
     "data": {
      "text/plain": [
       "{'Phylum': -0.04382048233715373,\n",
       " 'Class': -0.08540100047093065,\n",
       " 'Order': -0.1049426423563925,\n",
       " 'Family': -0.0333123983701039,\n",
       " 'Genus': -0.0561269868760198}"
      ]
     },
     "execution_count": 22,
     "metadata": {},
     "output_type": "execute_result"
    }
   ],
   "source": [
    "calculate_assortativity(mudata[\"metagenomics_shotgun\"])"
   ]
  },
  {
   "cell_type": "code",
   "execution_count": 23,
   "metadata": {},
   "outputs": [
    {
     "data": {
      "text/plain": [
       "0.46189837929999555"
      ]
     },
     "execution_count": 23,
     "metadata": {},
     "output_type": "execute_result"
    }
   ],
   "source": [
    "def to_time() -> None:\n",
    "    GmGM(\n",
    "        mudata[\"metagenomics_shotgun\"],\n",
    "        use_nonparanormal_skeptic=True,\n",
    "        #nonparanormal_evec_backend=\"COCA\",\n",
    "        #n_comps=50,\n",
    "        to_keep={\n",
    "            \"var\": 564 / 564**2,\n",
    "            \"obs\": 1200 / 1054**2\n",
    "        },\n",
    "        threshold_method=\"overall\"\n",
    "    )\n",
    "\n",
    "np.mean(timeit.repeat(to_time, number=1, repeat=10))"
   ]
  },
  {
   "cell_type": "markdown",
   "metadata": {},
   "source": [
    "## w/o nonpara, w/o metabol, 50pc"
   ]
  },
  {
   "cell_type": "code",
   "execution_count": 24,
   "metadata": {},
   "outputs": [
    {
     "name": "stdout",
     "output_type": "stream",
     "text": [
      "Centering...\n",
      "Calculating eigenvectors...\n",
      "\tby calculating SVD...\n",
      "Calculating eigenvalues...\n",
      "@0: 13946029.171802273 (-1686.31228719868 + 13947715.484089471 + 0) ∆inf\n",
      "Converged! (@16: 8755477.424389336)\n",
      "Recomposing sparse precisions...\n",
      "Converting back to AnnData...\n"
     ]
    },
    {
     "data": {
      "text/plain": [
       "AnnData object with n_obs × n_vars = 1054 × 564\n",
       "    uns: 'log1p', 'metagenomics_shotgun-var_neighbors_gmgm', 'obs_neighbors_gmgm', 'var_neighbors_gmgm'\n",
       "    obsp: 'obs_gmgm_connectivities'\n",
       "    varp: 'metagenomics_shotgun-var_gmgm_connectivities', 'var_gmgm_connectivities'"
      ]
     },
     "execution_count": 24,
     "metadata": {},
     "output_type": "execute_result"
    }
   ],
   "source": [
    "GmGM(\n",
    "    mudata[\"metagenomics_shotgun\"],\n",
    "    verbose=True,\n",
    "    #use_nonparanormal_skeptic=True,\n",
    "    #nonparanormal_evec_backend=\"COCA\",\n",
    "    n_comps=50,\n",
    "    to_keep={\n",
    "        \"var\": 564 / 564**2,\n",
    "        \"obs\": 1200 / 1054**2\n",
    "    },\n",
    "    threshold_method=\"overall\",\n",
    "    random_state=1\n",
    ")"
   ]
  },
  {
   "cell_type": "code",
   "execution_count": 25,
   "metadata": {},
   "outputs": [
    {
     "data": {
      "text/plain": [
       "{'Phylum': 0.23863888450400902,\n",
       " 'Class': 0.18863235577589343,\n",
       " 'Order': 0.06437958593172599,\n",
       " 'Family': 0.002148914857695508,\n",
       " 'Genus': 0.06583250586397618}"
      ]
     },
     "execution_count": 25,
     "metadata": {},
     "output_type": "execute_result"
    }
   ],
   "source": [
    "calculate_assortativity(mudata[\"metagenomics_shotgun\"])"
   ]
  },
  {
   "cell_type": "code",
   "execution_count": 26,
   "metadata": {},
   "outputs": [
    {
     "data": {
      "text/plain": [
       "0.25880185830000074"
      ]
     },
     "execution_count": 26,
     "metadata": {},
     "output_type": "execute_result"
    }
   ],
   "source": [
    "def to_time() -> None:\n",
    "    GmGM(\n",
    "        mudata[\"metagenomics_shotgun\"],\n",
    "        #use_nonparanormal_skeptic=True,\n",
    "        #nonparanormal_evec_backend=\"COCA\",\n",
    "        n_comps=50,\n",
    "        to_keep={\n",
    "            \"var\": 564 / 564**2,\n",
    "            \"obs\": 1200 / 1054**2\n",
    "        },\n",
    "        threshold_method=\"overall\"\n",
    "    )\n",
    "\n",
    "np.mean(timeit.repeat(to_time, number=1, repeat=10))"
   ]
  },
  {
   "cell_type": "markdown",
   "metadata": {},
   "source": [
    "## w/ nonpara, w/o metabol, 50pc"
   ]
  },
  {
   "cell_type": "code",
   "execution_count": 27,
   "metadata": {},
   "outputs": [
    {
     "name": "stdout",
     "output_type": "stream",
     "text": [
      "Centering...\n",
      "Calculating eigenvectors...\n",
      "\tby calculating left eigenvectors of concatenated matricizations...\n",
      "Calculating eigenvalues...\n",
      "@0: 539021.0291699229 (-1718.0169013216764 + 540739.0460712446 + 0) ∆inf\n",
      "Converged! (@19: 342571.0558740325)\n",
      "Recomposing sparse precisions...\n",
      "Converting back to AnnData...\n"
     ]
    },
    {
     "data": {
      "text/plain": [
       "AnnData object with n_obs × n_vars = 1054 × 564\n",
       "    uns: 'log1p', 'metagenomics_shotgun-var_neighbors_gmgm', 'obs_neighbors_gmgm', 'var_neighbors_gmgm'\n",
       "    obsp: 'obs_gmgm_connectivities'\n",
       "    varp: 'metagenomics_shotgun-var_gmgm_connectivities', 'var_gmgm_connectivities'"
      ]
     },
     "execution_count": 27,
     "metadata": {},
     "output_type": "execute_result"
    }
   ],
   "source": [
    "GmGM(\n",
    "    mudata[\"metagenomics_shotgun\"],\n",
    "    verbose=True,\n",
    "    use_nonparanormal_skeptic=True,\n",
    "    nonparanormal_evec_backend=\"COCA\",\n",
    "    n_comps=50,\n",
    "    to_keep={\n",
    "        \"var\": 564 / 564**2,\n",
    "        \"obs\": 1200 / 1054**2\n",
    "    },\n",
    "    threshold_method=\"overall\",\n",
    "    random_state=1\n",
    ")"
   ]
  },
  {
   "cell_type": "code",
   "execution_count": 28,
   "metadata": {},
   "outputs": [
    {
     "data": {
      "text/plain": [
       "{'Phylum': 0.19593386742804966,\n",
       " 'Class': 0.15839392895398652,\n",
       " 'Order': -0.04244534699603407,\n",
       " 'Family': -0.05299620892711073,\n",
       " 'Genus': 0.024867127634415793}"
      ]
     },
     "execution_count": 28,
     "metadata": {},
     "output_type": "execute_result"
    }
   ],
   "source": [
    "calculate_assortativity(mudata[\"metagenomics_shotgun\"])"
   ]
  },
  {
   "cell_type": "code",
   "execution_count": 29,
   "metadata": {},
   "outputs": [
    {
     "data": {
      "text/plain": [
       "2.300499075100004"
      ]
     },
     "execution_count": 29,
     "metadata": {},
     "output_type": "execute_result"
    }
   ],
   "source": [
    "def to_time() -> None:\n",
    "    GmGM(\n",
    "        mudata[\"metagenomics_shotgun\"],\n",
    "        use_nonparanormal_skeptic=True,\n",
    "        nonparanormal_evec_backend=\"COCA\",\n",
    "        n_comps=50,\n",
    "        to_keep={\n",
    "            \"var\": 564 / 564**2,\n",
    "            \"obs\": 1200 / 1054**2\n",
    "        },\n",
    "        threshold_method=\"overall\"\n",
    "    )\n",
    "\n",
    "np.mean(timeit.repeat(to_time, number=1, repeat=10))"
   ]
  },
  {
   "cell_type": "markdown",
   "metadata": {},
   "source": [
    "# TeraLasso"
   ]
  },
  {
   "cell_type": "markdown",
   "metadata": {},
   "source": [
    "## w/o nonpara w/o metabol"
   ]
  },
  {
   "cell_type": "code",
   "execution_count": 30,
   "metadata": {},
   "outputs": [
    {
     "name": "stderr",
     "output_type": "stream",
     "text": [
      "/Users/baileyandrew/mambaforge/envs/GmGM-python-demo/lib/python3.9/site-packages/GmGM/dataset.py:656: UserWarning: `use_highly_variable` was set to True but no highly variable indices were provided for axis 'obs'.  Thus we will use all indices for this axis.\n",
      "  warnings.warn(\n",
      "/Users/baileyandrew/mambaforge/envs/GmGM-python-demo/lib/python3.9/site-packages/GmGM/dataset.py:656: UserWarning: `use_highly_variable` was set to True but no highly variable indices were provided for axis 'var'.  Thus we will use all indices for this axis.\n",
      "  warnings.warn(\n"
     ]
    },
    {
     "data": {
      "text/plain": [
       "AnnData object with n_obs × n_vars = 1054 × 564\n",
       "    uns: 'log1p', 'metagenomics_shotgun-var_neighbors_gmgm', 'obs_neighbors_gmgm', 'var_neighbors_gmgm'\n",
       "    obsp: 'obs_gmgm_connectivities'\n",
       "    varp: 'metagenomics_shotgun-var_gmgm_connectivities', 'var_gmgm_connectivities'"
      ]
     },
     "execution_count": 30,
     "metadata": {},
     "output_type": "execute_result"
    }
   ],
   "source": [
    "ds = Dataset.from_AnnData(mudata[\"metagenomics_shotgun\"])\n",
    "# Changing this to 94.235 yields 4074, a big difference!\n",
    "# But 94.24 yields 2774 and 94.23 yields 3014 so it is very nonmonotonic\n",
    "# And 10 takes 70 minutes!!\n",
    "TeraLasso(\n",
    "    ds,\n",
    "    94.23\n",
    "    #use_nonparanormal_skeptic=True,\n",
    ")\n",
    "test = ds.to_AnnData()\n",
    "test"
   ]
  },
  {
   "cell_type": "code",
   "execution_count": 31,
   "metadata": {},
   "outputs": [
    {
     "data": {
      "text/plain": [
       "318096"
      ]
     },
     "execution_count": 31,
     "metadata": {},
     "output_type": "execute_result"
    }
   ],
   "source": [
    "# want 1200 * 2 + 564 = 2964\n",
    "564 * 564"
   ]
  },
  {
   "cell_type": "code",
   "execution_count": 32,
   "metadata": {},
   "outputs": [
    {
     "data": {
      "text/plain": [
       "<564x564 sparse array of type '<class 'numpy.float64'>'\n",
       "\twith 3014 stored elements in Compressed Sparse Row format>"
      ]
     },
     "execution_count": 32,
     "metadata": {},
     "output_type": "execute_result"
    }
   ],
   "source": [
    "test.varp[\"var_gmgm_connectivities\"]"
   ]
  },
  {
   "cell_type": "code",
   "execution_count": 33,
   "metadata": {},
   "outputs": [
    {
     "data": {
      "text/plain": [
       "{'Phylum': -0.05487204114529791,\n",
       " 'Class': -0.04148075022533486,\n",
       " 'Order': 0.027646601890228766,\n",
       " 'Family': 0.003609222295943036,\n",
       " 'Genus': 0.0017937565985015316}"
      ]
     },
     "execution_count": 33,
     "metadata": {},
     "output_type": "execute_result"
    }
   ],
   "source": [
    "calculate_assortativity(test)"
   ]
  },
  {
   "cell_type": "code",
   "execution_count": 38,
   "metadata": {},
   "outputs": [
    {
     "data": {
      "text/plain": [
       "32.88117337499996"
      ]
     },
     "execution_count": 38,
     "metadata": {},
     "output_type": "execute_result"
    }
   ],
   "source": [
    "def to_time() -> None:\n",
    "    ds = Dataset.from_AnnData(mudata[\"metagenomics_shotgun\"])\n",
    "    # Changing this to 94.235 yields 4074, a big difference!\n",
    "    # But 94.24 yields 2774 and 94.23 yields 3014 so it is very nonmonotonic\n",
    "    # And 10 takes 70 minutes!!\n",
    "    TeraLasso(\n",
    "        ds,\n",
    "        94.23\n",
    "        #use_nonparanormal_skeptic=True,\n",
    "    )\n",
    "\n",
    "np.mean(timeit.repeat(to_time, number=1, repeat=10))"
   ]
  },
  {
   "cell_type": "markdown",
   "metadata": {},
   "source": [
    "## w/ nonpara w/o metabol"
   ]
  },
  {
   "cell_type": "code",
   "execution_count": 35,
   "metadata": {},
   "outputs": [
    {
     "name": "stderr",
     "output_type": "stream",
     "text": [
      "/Users/baileyandrew/mambaforge/envs/GmGM-python-demo/lib/python3.9/site-packages/GmGM/dataset.py:656: UserWarning: `use_highly_variable` was set to True but no highly variable indices were provided for axis 'obs'.  Thus we will use all indices for this axis.\n",
      "  warnings.warn(\n",
      "/Users/baileyandrew/mambaforge/envs/GmGM-python-demo/lib/python3.9/site-packages/GmGM/dataset.py:656: UserWarning: `use_highly_variable` was set to True but no highly variable indices were provided for axis 'var'.  Thus we will use all indices for this axis.\n",
      "  warnings.warn(\n"
     ]
    },
    {
     "data": {
      "text/plain": [
       "AnnData object with n_obs × n_vars = 1054 × 564\n",
       "    uns: 'log1p', 'metagenomics_shotgun-var_neighbors_gmgm', 'obs_neighbors_gmgm', 'var_neighbors_gmgm'\n",
       "    obsp: 'obs_gmgm_connectivities'\n",
       "    varp: 'metagenomics_shotgun-var_gmgm_connectivities', 'var_gmgm_connectivities'"
      ]
     },
     "execution_count": 35,
     "metadata": {},
     "output_type": "execute_result"
    }
   ],
   "source": [
    "ds = Dataset.from_AnnData(mudata[\"metagenomics_shotgun\"])\n",
    "# Seems to produce no result for 2e-8, full result for 1.75e-8\n",
    "# 1.9e-8 gives 572, 1.8e-9 gives 576\n",
    "TeraLasso(\n",
    "    ds,\n",
    "    2e-8,\n",
    "    use_nonparanormal_skeptic=True,\n",
    ")\n",
    "test = ds.to_AnnData()\n",
    "test"
   ]
  },
  {
   "cell_type": "code",
   "execution_count": 36,
   "metadata": {},
   "outputs": [
    {
     "data": {
      "text/plain": [
       "<564x564 sparse array of type '<class 'numpy.float64'>'\n",
       "\twith 564 stored elements in Compressed Sparse Row format>"
      ]
     },
     "execution_count": 36,
     "metadata": {},
     "output_type": "execute_result"
    }
   ],
   "source": [
    "test.varp[\"var_gmgm_connectivities\"]"
   ]
  },
  {
   "cell_type": "code",
   "execution_count": 37,
   "metadata": {},
   "outputs": [
    {
     "data": {
      "text/plain": [
       "{'Phylum': nan, 'Class': nan, 'Order': nan, 'Family': nan, 'Genus': nan}"
      ]
     },
     "execution_count": 37,
     "metadata": {},
     "output_type": "execute_result"
    }
   ],
   "source": [
    "calculate_assortativity(test)"
   ]
  }
 ],
 "metadata": {
  "kernelspec": {
   "display_name": "GmGM-python-demo",
   "language": "python",
   "name": "python3"
  },
  "language_info": {
   "codemirror_mode": {
    "name": "ipython",
    "version": 3
   },
   "file_extension": ".py",
   "mimetype": "text/x-python",
   "name": "python",
   "nbconvert_exporter": "python",
   "pygments_lexer": "ipython3",
   "version": "3.9.16"
  }
 },
 "nbformat": 4,
 "nbformat_minor": 2
}
