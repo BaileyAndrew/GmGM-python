{
 "cells": [
  {
   "cell_type": "markdown",
   "metadata": {},
   "source": [
    "Note: this example requires data from the LifeLines-DEEP project; you have to request access from them. (https://pubmed.ncbi.nlm.nih.gov/26319774/)"
   ]
  },
  {
   "cell_type": "code",
   "execution_count": 1,
   "metadata": {},
   "outputs": [
    {
     "name": "stderr",
     "output_type": "stream",
     "text": [
      "/Users/baileyandrew/mambaforge/envs/GmGM-python-accelerate/lib/python3.9/site-packages/umap/distances.py:1063: NumbaDeprecationWarning: The 'nopython' keyword argument was not supplied to the 'numba.jit' decorator. The implicit default value for this argument is currently False, but it will be changed to True in Numba 0.59.0. See https://numba.readthedocs.io/en/stable/reference/deprecation.html#deprecation-of-object-mode-fall-back-behaviour-when-using-jit for details.\n",
      "  @numba.jit()\n",
      "/Users/baileyandrew/mambaforge/envs/GmGM-python-accelerate/lib/python3.9/site-packages/umap/distances.py:1071: NumbaDeprecationWarning: The 'nopython' keyword argument was not supplied to the 'numba.jit' decorator. The implicit default value for this argument is currently False, but it will be changed to True in Numba 0.59.0. See https://numba.readthedocs.io/en/stable/reference/deprecation.html#deprecation-of-object-mode-fall-back-behaviour-when-using-jit for details.\n",
      "  @numba.jit()\n",
      "/Users/baileyandrew/mambaforge/envs/GmGM-python-accelerate/lib/python3.9/site-packages/umap/distances.py:1086: NumbaDeprecationWarning: The 'nopython' keyword argument was not supplied to the 'numba.jit' decorator. The implicit default value for this argument is currently False, but it will be changed to True in Numba 0.59.0. See https://numba.readthedocs.io/en/stable/reference/deprecation.html#deprecation-of-object-mode-fall-back-behaviour-when-using-jit for details.\n",
      "  @numba.jit()\n",
      "/Users/baileyandrew/mambaforge/envs/GmGM-python-accelerate/lib/python3.9/site-packages/tqdm/auto.py:21: TqdmWarning: IProgress not found. Please update jupyter and ipywidgets. See https://ipywidgets.readthedocs.io/en/stable/user_install.html\n",
      "  from .autonotebook import tqdm as notebook_tqdm\n",
      "/Users/baileyandrew/mambaforge/envs/GmGM-python-accelerate/lib/python3.9/site-packages/umap/umap_.py:660: NumbaDeprecationWarning: The 'nopython' keyword argument was not supplied to the 'numba.jit' decorator. The implicit default value for this argument is currently False, but it will be changed to True in Numba 0.59.0. See https://numba.readthedocs.io/en/stable/reference/deprecation.html#deprecation-of-object-mode-fall-back-behaviour-when-using-jit for details.\n",
      "  @numba.jit()\n"
     ]
    }
   ],
   "source": [
    "from TeraLasso import TeraLasso\n",
    "from EiGLasso import EiGLasso\n",
    "from GmGM import GmGM, Dataset\n",
    "from GmGM.synthetic.generate_data import threshold_dictionary\n",
    "\n",
    "import matplotlib.pyplot as plt\n",
    "import numpy as np\n",
    "import timeit\n",
    "\n",
    "from cycler import cycler\n",
    "linestyle_cycler = cycler('linestyle',['-','--',':','-.'])\n",
    "color_cycler = cycler('color',['k','orange','m','darkgreen'])\n",
    "plt.rc('axes', prop_cycle=linestyle_cycler + color_cycler)\n",
    "\n",
    "import igraph as ig\n",
    "import pandas as pd\n",
    "\n",
    "import muon as mu\n",
    "import anndata as ad\n",
    "import scanpy as sc\n",
    "from anndata import AnnData\n",
    "import sklearn.cluster as clust\n",
    "\n",
    "from typing import Literal, Union"
   ]
  },
  {
   "cell_type": "markdown",
   "metadata": {},
   "source": [
    "# Setup"
   ]
  },
  {
   "cell_type": "markdown",
   "metadata": {},
   "source": [
    "## Helper Functions"
   ]
  },
  {
   "cell_type": "code",
   "execution_count": 2,
   "metadata": {},
   "outputs": [],
   "source": [
    "def calculate_assortativity(\n",
    "    mudata: Union[mu.MuData, ad.AnnData],\n",
    ") -> dict[Literal[\"Phylum\", \"Class\", \"Order\", \"Family\", \"Genus\"], float]:\n",
    "    global taxmat\n",
    "    if isinstance(mudata, mu.MuData):\n",
    "        precmat = mudata[\"metagenomics_shotgun\"].varp[\n",
    "            \"metagenomics_shotgun-var_gmgm_connectivities\"\n",
    "        ].toarray()\n",
    "    elif isinstance(mudata, ad.AnnData):\n",
    "        precmat = mudata.varp[\n",
    "            \"var_gmgm_connectivities\"\n",
    "        ].toarray()\n",
    "    else:\n",
    "        raise ValueError(\"mudata must be of type mu.MuData or anndata.AnnData\")\n",
    "    g = ig.Graph.Adjacency(\n",
    "        precmat != 0,\n",
    "        mode=\"undirected\",\n",
    "        loops=False\n",
    "    )\n",
    "    return {\n",
    "        tax_level: g.assortativity(taxmat[tax_level].cat.codes-1)\n",
    "        for tax_level in [\"Phylum\", \"Class\", \"Order\", \"Family\", \"Genus\"]\n",
    "    }"
   ]
  },
  {
   "cell_type": "markdown",
   "metadata": {},
   "source": [
    "## Load Data"
   ]
  },
  {
   "cell_type": "code",
   "execution_count": 3,
   "metadata": {},
   "outputs": [],
   "source": [
    "# Get the taxa\n",
    "taxmat = pd.read_csv(\"../data/LL-Deep Data - Processed/ll-deep-taxmat.csv\", index_col=0)\n",
    "taxmat.columns = [\"Domain\", \"Phylum\", \"Class\", \"Order\", \"Family\", \"Genus\"]\n",
    "taxmat = taxmat.fillna(\"Unknown\")\n",
    "taxmat = taxmat.apply(lambda x: x.astype(\"category\"))"
   ]
  },
  {
   "cell_type": "code",
   "execution_count": 4,
   "metadata": {},
   "outputs": [
    {
     "name": "stdout",
     "output_type": "stream",
     "text": [
      "(1054, 3)\n",
      "(1054, 1183)\n",
      "(1054, 3957) -> (1054, 564)\n"
     ]
    }
   ],
   "source": [
    "# Read in the mapping linking person ids from metabolomics and metagenomics\n",
    "# (we actually constructed the latter two datasets such that the nth row matches\n",
    "# up in all of them - but this still contains gender info)\n",
    "map_df = pd.read_csv(\n",
    "    \"../data/LL-Deep Data - Processed/Map.csv\",\n",
    "    index_col=0\n",
    ")\n",
    "print(map_df.shape)\n",
    "\n",
    "# Read in the metabolomics data\n",
    "metabolomics_df = pd.read_csv(\n",
    "    \"../data/LL-Deep Data - Processed/Metabolomics.csv\",\n",
    "    index_col=0\n",
    ")\n",
    "print(metabolomics_df.shape)\n",
    "\n",
    "# Read in the metagenomics data\n",
    "metagenomics_df = pd.read_csv(\n",
    "    \"../data/LL-Deep Data - Processed/MetagenomicsShotgun.csv\",\n",
    "    index_col=0\n",
    ")\n",
    "old_shape = metagenomics_df.shape\n",
    "\n",
    "# Only keep the species who appear in more than 20% of the people\n",
    "#keep_idxs = ((counts > 0).sum(axis=0) > 0.2 * counts.shape[0]).values\n",
    "#counts = counts.loc[:, keep_idxs]\n",
    "#taxmat = taxmat.loc[keep_idxs, :]\n",
    "keep_idxs = (metagenomics_df > 0).sum(axis=0) > 0.2 * metagenomics_df.shape[0]\n",
    "metagenomics_df = metagenomics_df.loc[:, keep_idxs]\n",
    "taxmat = taxmat.loc[keep_idxs.values, :]\n",
    "\n",
    "print(old_shape, '->', metagenomics_df.shape)"
   ]
  },
  {
   "cell_type": "code",
   "execution_count": 5,
   "metadata": {},
   "outputs": [],
   "source": [
    "# Load our data into a MuData object\n",
    "metabol_ann = AnnData(\n",
    "    X = metabolomics_df.to_numpy()\n",
    ")\n",
    "metabol_ann.obs_names = metabolomics_df.index\n",
    "metabol_ann.var_names = metabolomics_df.columns\n",
    "\n",
    "metagen_ann = AnnData(\n",
    "    X = metagenomics_df.to_numpy()\n",
    ")\n",
    "metagen_ann.obs_names = metabolomics_df.index # note this is the same as metabolomics\n",
    "metagen_ann.var_names = metagenomics_df.columns\n",
    "\n",
    "mudata = mu.MuData({\n",
    "    \"metabolomics\": metabol_ann,\n",
    "    \"metagenomics_shotgun\": metagen_ann\n",
    "})\n",
    "\n",
    "mudata.obs[\"Gender\"] = map_df[\"Gender\"].to_numpy()\n",
    "\n",
    "# Log transform the data\n",
    "sc.pp.log1p(mudata[\"metabolomics\"])\n",
    "sc.pp.log1p(mudata[\"metagenomics_shotgun\"])"
   ]
  },
  {
   "cell_type": "markdown",
   "metadata": {},
   "source": [
    "# GmGM"
   ]
  },
  {
   "cell_type": "markdown",
   "metadata": {},
   "source": [
    "## w/o nonpara"
   ]
  },
  {
   "cell_type": "code",
   "execution_count": 6,
   "metadata": {},
   "outputs": [
    {
     "name": "stdout",
     "output_type": "stream",
     "text": [
      "Centering...\n",
      "Calculating eigenvectors...\n",
      "\tby calculating gram matrices and then eigendecomposing...\n",
      "Calculating eigenvectors for axis='obs'\n",
      "Calculating eigenvectors for axis='metagenomics_shotgun-var'\n",
      "Calculating eigenvectors for axis='metabolomics-var'\n",
      "Calculating eigenvalues...\n",
      "@0: -1834610.2475790898 (-1834616.8682274285 + 6.620648338769167 + 0) ∆inf\n",
      "Converged! (@14: -1955700.7343906139)\n",
      "Recomposing sparse precisions...\n",
      "Converting back to MuData...\n"
     ]
    },
    {
     "data": {
      "text/html": [
       "<pre>MuData object with n_obs × n_vars = 1054 × 1747\n",
       "  obs:\t&#x27;Gender&#x27;\n",
       "  uns:\t&#x27;obs_neighbors_gmgm&#x27;\n",
       "  obsp:\t&#x27;obs_gmgm_connectivities&#x27;\n",
       "  2 modalities\n",
       "    metabolomics:\t1054 x 1183\n",
       "      uns:\t&#x27;log1p&#x27;, &#x27;metabolomics-var_neighbors_gmgm&#x27;\n",
       "      varp:\t&#x27;metabolomics-var_gmgm_connectivities&#x27;\n",
       "    metagenomics_shotgun:\t1054 x 564\n",
       "      uns:\t&#x27;log1p&#x27;, &#x27;metagenomics_shotgun-var_neighbors_gmgm&#x27;\n",
       "      varp:\t&#x27;metagenomics_shotgun-var_gmgm_connectivities&#x27;</pre>"
      ],
      "text/plain": [
       "MuData object with n_obs × n_vars = 1054 × 1747\n",
       "  obs:\t'Gender'\n",
       "  uns:\t'obs_neighbors_gmgm'\n",
       "  obsp:\t'obs_gmgm_connectivities'\n",
       "  2 modalities\n",
       "    metabolomics:\t1054 x 1183\n",
       "      uns:\t'log1p', 'metabolomics-var_neighbors_gmgm'\n",
       "      varp:\t'metabolomics-var_gmgm_connectivities'\n",
       "    metagenomics_shotgun:\t1054 x 564\n",
       "      uns:\t'log1p', 'metagenomics_shotgun-var_neighbors_gmgm'\n",
       "      varp:\t'metagenomics_shotgun-var_gmgm_connectivities'"
      ]
     },
     "execution_count": 6,
     "metadata": {},
     "output_type": "execute_result"
    }
   ],
   "source": [
    "GmGM(\n",
    "    mudata,\n",
    "    verbose=True,\n",
    "    #use_nonparanormal_skeptic=True,\n",
    "    #nonparanormal_evec_backend=\"COCA\",\n",
    "    #n_comps=50,\n",
    "    to_keep={\n",
    "        \"metabolomics-var\": 1183 / 1183**2,\n",
    "        \"metagenomics_shotgun-var\": 1200 / 564**2,\n",
    "        \"obs\": 1054 / 1054**2\n",
    "    },\n",
    "    random_state=0,\n",
    "    threshold_method=\"overall\",\n",
    ")"
   ]
  },
  {
   "cell_type": "code",
   "execution_count": 7,
   "metadata": {},
   "outputs": [
    {
     "data": {
      "text/plain": [
       "{'Phylum': -0.0340116012287351,\n",
       " 'Class': -0.07758431316582456,\n",
       " 'Order': -0.10237227875338675,\n",
       " 'Family': 0.01903746743427355,\n",
       " 'Genus': -0.0758265373739494}"
      ]
     },
     "execution_count": 7,
     "metadata": {},
     "output_type": "execute_result"
    }
   ],
   "source": [
    "calculate_assortativity(mudata)"
   ]
  },
  {
   "cell_type": "code",
   "execution_count": 8,
   "metadata": {},
   "outputs": [
    {
     "data": {
      "text/plain": [
       "0.7510346333999998"
      ]
     },
     "execution_count": 8,
     "metadata": {},
     "output_type": "execute_result"
    }
   ],
   "source": [
    "def to_time() -> None:\n",
    "    GmGM(\n",
    "        mudata,\n",
    "        #use_nonparanormal_skeptic=True,\n",
    "        #nonparanormal_evec_backend=\"COCA\",\n",
    "        #n_comps=50,\n",
    "        to_keep={\n",
    "            \"metabolomics-var\": 1183 / 1183**2,\n",
    "            \"metagenomics_shotgun-var\": 1200 / 564**2,\n",
    "            \"obs\": 1054 / 1054**2\n",
    "        },\n",
    "        threshold_method=\"overall\"\n",
    "    )\n",
    "\n",
    "np.mean(timeit.repeat(to_time, number=1, repeat=10))"
   ]
  },
  {
   "cell_type": "markdown",
   "metadata": {},
   "source": [
    "## w/ nonpara"
   ]
  },
  {
   "cell_type": "code",
   "execution_count": 9,
   "metadata": {},
   "outputs": [
    {
     "name": "stdout",
     "output_type": "stream",
     "text": [
      "Centering...\n",
      "Calculating eigenvectors...\n",
      "\tby calculating gram matrices and then eigendecomposing...\n",
      "Calculating eigenvectors for axis='obs'\n",
      "Calculating eigenvectors for axis='metagenomics_shotgun-var'\n",
      "Calculating eigenvectors for axis='metabolomics-var'\n",
      "Calculating eigenvalues...\n",
      "@0: -1835146.444140518 (-1835152.198621132 + 5.754480613893504 + 0) ∆inf\n",
      "Converged! (@14: -1983139.8097202538)\n",
      "Recomposing sparse precisions...\n",
      "Converting back to MuData...\n"
     ]
    },
    {
     "data": {
      "text/html": [
       "<pre>MuData object with n_obs × n_vars = 1054 × 1747\n",
       "  obs:\t&#x27;Gender&#x27;\n",
       "  uns:\t&#x27;obs_neighbors_gmgm&#x27;\n",
       "  obsp:\t&#x27;obs_gmgm_connectivities&#x27;\n",
       "  2 modalities\n",
       "    metabolomics:\t1054 x 1183\n",
       "      uns:\t&#x27;log1p&#x27;, &#x27;metabolomics-var_neighbors_gmgm&#x27;\n",
       "      varp:\t&#x27;metabolomics-var_gmgm_connectivities&#x27;\n",
       "    metagenomics_shotgun:\t1054 x 564\n",
       "      uns:\t&#x27;log1p&#x27;, &#x27;metagenomics_shotgun-var_neighbors_gmgm&#x27;\n",
       "      varp:\t&#x27;metagenomics_shotgun-var_gmgm_connectivities&#x27;</pre>"
      ],
      "text/plain": [
       "MuData object with n_obs × n_vars = 1054 × 1747\n",
       "  obs:\t'Gender'\n",
       "  uns:\t'obs_neighbors_gmgm'\n",
       "  obsp:\t'obs_gmgm_connectivities'\n",
       "  2 modalities\n",
       "    metabolomics:\t1054 x 1183\n",
       "      uns:\t'log1p', 'metabolomics-var_neighbors_gmgm'\n",
       "      varp:\t'metabolomics-var_gmgm_connectivities'\n",
       "    metagenomics_shotgun:\t1054 x 564\n",
       "      uns:\t'log1p', 'metagenomics_shotgun-var_neighbors_gmgm'\n",
       "      varp:\t'metagenomics_shotgun-var_gmgm_connectivities'"
      ]
     },
     "execution_count": 9,
     "metadata": {},
     "output_type": "execute_result"
    }
   ],
   "source": [
    "GmGM(\n",
    "    mudata,\n",
    "    verbose=True,\n",
    "    use_nonparanormal_skeptic=True,\n",
    "    #nonparanormal_evec_backend=\"COCA\",\n",
    "    #n_comps=50,\n",
    "    to_keep={\n",
    "        \"metabolomics-var\": 1183 / 1183**2,\n",
    "        \"metagenomics_shotgun-var\": 1200 / 564**2,\n",
    "        \"obs\": 1054 / 1054**2\n",
    "    },\n",
    "    threshold_method=\"overall\",\n",
    "    random_state=0\n",
    ")"
   ]
  },
  {
   "cell_type": "code",
   "execution_count": 10,
   "metadata": {},
   "outputs": [
    {
     "data": {
      "text/plain": [
       "{'Phylum': -0.01083183431730019,\n",
       " 'Class': 0.0038790432750807546,\n",
       " 'Order': 0.012346823692702196,\n",
       " 'Family': 0.010306609993891774,\n",
       " 'Genus': -0.01737953363222772}"
      ]
     },
     "execution_count": 10,
     "metadata": {},
     "output_type": "execute_result"
    }
   ],
   "source": [
    "calculate_assortativity(mudata)"
   ]
  },
  {
   "cell_type": "code",
   "execution_count": 11,
   "metadata": {},
   "outputs": [
    {
     "data": {
      "text/plain": [
       "0.7762516541999993"
      ]
     },
     "execution_count": 11,
     "metadata": {},
     "output_type": "execute_result"
    }
   ],
   "source": [
    "def to_time() -> None:\n",
    "    GmGM(\n",
    "        mudata,\n",
    "        use_nonparanormal_skeptic=True,\n",
    "        #nonparanormal_evec_backend=\"COCA\",\n",
    "        #n_comps=50,\n",
    "        to_keep={\n",
    "            \"metabolomics-var\": 1183 / 1183**2,\n",
    "            \"metagenomics_shotgun-var\": 1200 / 564**2,\n",
    "            \"obs\": 1054 / 1054**2\n",
    "        },\n",
    "        threshold_method=\"overall\"\n",
    "    )\n",
    "\n",
    "np.mean(timeit.repeat(to_time, number=1, repeat=10))"
   ]
  },
  {
   "cell_type": "markdown",
   "metadata": {},
   "source": [
    "## w/o nonpara, 50pc"
   ]
  },
  {
   "cell_type": "code",
   "execution_count": 12,
   "metadata": {},
   "outputs": [
    {
     "name": "stdout",
     "output_type": "stream",
     "text": [
      "Centering...\n",
      "Calculating eigenvectors...\n",
      "\tby calculating left eigenvectors of concatenated matricizations...\n",
      "Calculating eigenvalues...\n",
      "@0: 15499134.895770371 (-3379.8941838578976 + 15502514.789954228 + 0) ∆inf\n",
      "Converged! (@16: 11421866.736312293)\n",
      "Recomposing sparse precisions...\n",
      "Converting back to MuData...\n"
     ]
    },
    {
     "data": {
      "text/html": [
       "<pre>MuData object with n_obs × n_vars = 1054 × 1747\n",
       "  obs:\t&#x27;Gender&#x27;\n",
       "  uns:\t&#x27;obs_neighbors_gmgm&#x27;\n",
       "  obsp:\t&#x27;obs_gmgm_connectivities&#x27;\n",
       "  2 modalities\n",
       "    metabolomics:\t1054 x 1183\n",
       "      uns:\t&#x27;log1p&#x27;, &#x27;metabolomics-var_neighbors_gmgm&#x27;\n",
       "      varp:\t&#x27;metabolomics-var_gmgm_connectivities&#x27;\n",
       "    metagenomics_shotgun:\t1054 x 564\n",
       "      uns:\t&#x27;log1p&#x27;, &#x27;metagenomics_shotgun-var_neighbors_gmgm&#x27;\n",
       "      varp:\t&#x27;metagenomics_shotgun-var_gmgm_connectivities&#x27;</pre>"
      ],
      "text/plain": [
       "MuData object with n_obs × n_vars = 1054 × 1747\n",
       "  obs:\t'Gender'\n",
       "  uns:\t'obs_neighbors_gmgm'\n",
       "  obsp:\t'obs_gmgm_connectivities'\n",
       "  2 modalities\n",
       "    metabolomics:\t1054 x 1183\n",
       "      uns:\t'log1p', 'metabolomics-var_neighbors_gmgm'\n",
       "      varp:\t'metabolomics-var_gmgm_connectivities'\n",
       "    metagenomics_shotgun:\t1054 x 564\n",
       "      uns:\t'log1p', 'metagenomics_shotgun-var_neighbors_gmgm'\n",
       "      varp:\t'metagenomics_shotgun-var_gmgm_connectivities'"
      ]
     },
     "execution_count": 12,
     "metadata": {},
     "output_type": "execute_result"
    }
   ],
   "source": [
    "GmGM(\n",
    "    mudata,\n",
    "    verbose=True,\n",
    "    #use_nonparanormal_skeptic=True,\n",
    "    #nonparanormal_evec_backend=\"COCA\",\n",
    "    n_comps=50,\n",
    "    to_keep={\n",
    "        \"metabolomics-var\": 1183 / 1183**2,\n",
    "        \"metagenomics_shotgun-var\": 1200 / 564**2,\n",
    "        \"obs\": 1054 / 1054**2\n",
    "    },\n",
    "    threshold_method=\"overall\",\n",
    "    random_state=0\n",
    ")"
   ]
  },
  {
   "cell_type": "code",
   "execution_count": 13,
   "metadata": {},
   "outputs": [
    {
     "data": {
      "text/plain": [
       "{'Phylum': 0.2161060638215047,\n",
       " 'Class': 0.21280122938368426,\n",
       " 'Order': 0.013449012768118976,\n",
       " 'Family': -0.0006373060574091327,\n",
       " 'Genus': 0.04490125109929295}"
      ]
     },
     "execution_count": 13,
     "metadata": {},
     "output_type": "execute_result"
    }
   ],
   "source": [
    "calculate_assortativity(mudata)"
   ]
  },
  {
   "cell_type": "code",
   "execution_count": 14,
   "metadata": {},
   "outputs": [
    {
     "data": {
      "text/plain": [
       "0.3051413873999998"
      ]
     },
     "execution_count": 14,
     "metadata": {},
     "output_type": "execute_result"
    }
   ],
   "source": [
    "def to_time() -> None:\n",
    "    GmGM(\n",
    "        mudata,\n",
    "        #use_nonparanormal_skeptic=True,\n",
    "        #nonparanormal_evec_backend=\"COCA\",\n",
    "        n_comps=50,\n",
    "        to_keep={\n",
    "            \"metabolomics-var\": 1183 / 1183**2,\n",
    "            \"metagenomics_shotgun-var\": 1200 / 564**2,\n",
    "            \"obs\": 1054 / 1054**2\n",
    "        },\n",
    "        threshold_method=\"overall\"\n",
    "    )\n",
    "\n",
    "np.mean(timeit.repeat(to_time, number=1, repeat=10))"
   ]
  },
  {
   "cell_type": "markdown",
   "metadata": {},
   "source": [
    "## w/ nonpara, 50pc"
   ]
  },
  {
   "cell_type": "code",
   "execution_count": 15,
   "metadata": {},
   "outputs": [
    {
     "name": "stdout",
     "output_type": "stream",
     "text": [
      "Centering...\n",
      "Calculating eigenvectors...\n",
      "\tby calculating left eigenvectors of concatenated matricizations...\n",
      "Calculating eigenvalues...\n",
      "@0: 2299430.975742045 (-3457.1901852916317 + 2302888.1659273366 + 0) ∆inf\n",
      "Converged! (@25: 1189653.7319726325)\n",
      "Recomposing sparse precisions...\n",
      "Converting back to MuData...\n"
     ]
    },
    {
     "data": {
      "text/html": [
       "<pre>MuData object with n_obs × n_vars = 1054 × 1747\n",
       "  obs:\t&#x27;Gender&#x27;\n",
       "  uns:\t&#x27;obs_neighbors_gmgm&#x27;\n",
       "  obsp:\t&#x27;obs_gmgm_connectivities&#x27;\n",
       "  2 modalities\n",
       "    metabolomics:\t1054 x 1183\n",
       "      uns:\t&#x27;log1p&#x27;, &#x27;metabolomics-var_neighbors_gmgm&#x27;\n",
       "      varp:\t&#x27;metabolomics-var_gmgm_connectivities&#x27;\n",
       "    metagenomics_shotgun:\t1054 x 564\n",
       "      uns:\t&#x27;log1p&#x27;, &#x27;metagenomics_shotgun-var_neighbors_gmgm&#x27;\n",
       "      varp:\t&#x27;metagenomics_shotgun-var_gmgm_connectivities&#x27;</pre>"
      ],
      "text/plain": [
       "MuData object with n_obs × n_vars = 1054 × 1747\n",
       "  obs:\t'Gender'\n",
       "  uns:\t'obs_neighbors_gmgm'\n",
       "  obsp:\t'obs_gmgm_connectivities'\n",
       "  2 modalities\n",
       "    metabolomics:\t1054 x 1183\n",
       "      uns:\t'log1p', 'metabolomics-var_neighbors_gmgm'\n",
       "      varp:\t'metabolomics-var_gmgm_connectivities'\n",
       "    metagenomics_shotgun:\t1054 x 564\n",
       "      uns:\t'log1p', 'metagenomics_shotgun-var_neighbors_gmgm'\n",
       "      varp:\t'metagenomics_shotgun-var_gmgm_connectivities'"
      ]
     },
     "execution_count": 15,
     "metadata": {},
     "output_type": "execute_result"
    }
   ],
   "source": [
    "GmGM(\n",
    "    mudata,\n",
    "    verbose=True,\n",
    "    use_nonparanormal_skeptic=True,\n",
    "    nonparanormal_evec_backend=\"COCA\",\n",
    "    n_comps=50,\n",
    "    to_keep={\n",
    "        \"metabolomics-var\": 1183 / 1183**2,\n",
    "        \"metagenomics_shotgun-var\": 1200 / 564**2,\n",
    "        \"obs\": 1054 / 1054**2\n",
    "    },\n",
    "    threshold_method=\"overall\",\n",
    "    random_state=0\n",
    ")"
   ]
  },
  {
   "cell_type": "code",
   "execution_count": 16,
   "metadata": {},
   "outputs": [
    {
     "data": {
      "text/plain": [
       "{'Phylum': 0.15367704079507166,\n",
       " 'Class': 0.16089513681604936,\n",
       " 'Order': -0.009558243935596528,\n",
       " 'Family': 0.006441657993733161,\n",
       " 'Genus': 0.03980574931696559}"
      ]
     },
     "execution_count": 16,
     "metadata": {},
     "output_type": "execute_result"
    }
   ],
   "source": [
    "calculate_assortativity(mudata)"
   ]
  },
  {
   "cell_type": "code",
   "execution_count": 17,
   "metadata": {},
   "outputs": [
    {
     "data": {
      "text/plain": [
       "4.016988616599998"
      ]
     },
     "execution_count": 17,
     "metadata": {},
     "output_type": "execute_result"
    }
   ],
   "source": [
    "def to_time() -> None:\n",
    "    GmGM(\n",
    "        mudata,\n",
    "        use_nonparanormal_skeptic=True,\n",
    "        nonparanormal_evec_backend=\"COCA\",\n",
    "        n_comps=50,\n",
    "        to_keep={\n",
    "            \"metabolomics-var\": 1183 / 1183**2,\n",
    "            \"metagenomics_shotgun-var\": 1200 / 564**2,\n",
    "            \"obs\": 1054 / 1054**2\n",
    "        },\n",
    "        threshold_method=\"overall\"\n",
    "    )\n",
    "\n",
    "np.mean(timeit.repeat(to_time, number=1, repeat=10))"
   ]
  },
  {
   "cell_type": "markdown",
   "metadata": {},
   "source": [
    "## w/o nonpara w/o metabol"
   ]
  },
  {
   "cell_type": "code",
   "execution_count": 18,
   "metadata": {},
   "outputs": [
    {
     "name": "stdout",
     "output_type": "stream",
     "text": [
      "Centering...\n",
      "Calculating eigenvectors...\n",
      "\tby calculating gram matrices and then eigendecomposing...\n",
      "Calculating eigenvectors for axis='obs'\n",
      "Calculating eigenvectors for axis='var'\n",
      "Calculating eigenvalues...\n",
      "@0: -566088.016171067 (-566094.2859140849 + 6.269743017843555 + 0) ∆inf\n",
      "Converged! (@10: -589782.8896450901)\n",
      "Recomposing sparse precisions...\n",
      "Converting back to AnnData...\n"
     ]
    },
    {
     "data": {
      "text/plain": [
       "AnnData object with n_obs × n_vars = 1054 × 564\n",
       "    uns: 'log1p', 'metagenomics_shotgun-var_neighbors_gmgm', 'obs_neighbors_gmgm', 'var_neighbors_gmgm'\n",
       "    obsp: 'obs_gmgm_connectivities'\n",
       "    varp: 'metagenomics_shotgun-var_gmgm_connectivities', 'var_gmgm_connectivities'"
      ]
     },
     "execution_count": 18,
     "metadata": {},
     "output_type": "execute_result"
    }
   ],
   "source": [
    "GmGM(\n",
    "    mudata[\"metagenomics_shotgun\"],\n",
    "    verbose=True,\n",
    "    #use_nonparanormal_skeptic=True,\n",
    "    #nonparanormal_evec_backend=\"COCA\",\n",
    "    #n_comps=50,\n",
    "    to_keep={\n",
    "        \"var\": 1200 / 564**2,\n",
    "        \"obs\": 1054 / 1054**2\n",
    "    },\n",
    "    threshold_method=\"overall\",\n",
    "    random_state=0\n",
    ")"
   ]
  },
  {
   "cell_type": "code",
   "execution_count": 19,
   "metadata": {},
   "outputs": [
    {
     "data": {
      "text/plain": [
       "{'Phylum': -0.03387022271612623,\n",
       " 'Class': -0.07701084827385335,\n",
       " 'Order': -0.10017418814769018,\n",
       " 'Family': 0.01848634723723933,\n",
       " 'Genus': -0.07653293336440652}"
      ]
     },
     "execution_count": 19,
     "metadata": {},
     "output_type": "execute_result"
    }
   ],
   "source": [
    "calculate_assortativity(mudata[\"metagenomics_shotgun\"])"
   ]
  },
  {
   "cell_type": "code",
   "execution_count": 20,
   "metadata": {},
   "outputs": [
    {
     "data": {
      "text/plain": [
       "0.2553461332999959"
      ]
     },
     "execution_count": 20,
     "metadata": {},
     "output_type": "execute_result"
    }
   ],
   "source": [
    "def to_time() -> None:\n",
    "    GmGM(\n",
    "        mudata[\"metagenomics_shotgun\"],\n",
    "        #use_nonparanormal_skeptic=True,\n",
    "        #nonparanormal_evec_backend=\"COCA\",\n",
    "        #n_comps=50,\n",
    "        to_keep={\n",
    "            \"var\": 1200 / 564**2,\n",
    "            \"obs\": 1054 / 1054**2\n",
    "        },\n",
    "        threshold_method=\"overall\"\n",
    "    )\n",
    "\n",
    "np.mean(timeit.repeat(to_time, number=1, repeat=10))"
   ]
  },
  {
   "cell_type": "markdown",
   "metadata": {},
   "source": [
    "## w/ nonpara, w/o metabol"
   ]
  },
  {
   "cell_type": "code",
   "execution_count": 21,
   "metadata": {},
   "outputs": [
    {
     "name": "stdout",
     "output_type": "stream",
     "text": [
      "Centering...\n",
      "Calculating eigenvectors...\n",
      "\tby calculating gram matrices and then eigendecomposing...\n",
      "Calculating eigenvectors for axis='obs'\n",
      "Calculating eigenvectors for axis='var'\n",
      "Calculating eigenvalues...\n",
      "@0: -566118.05331034 (-566124.2453072045 + 6.191996864548216 + 0) ∆inf\n",
      "Converged! (@11: -590597.1354492947)\n",
      "Recomposing sparse precisions...\n",
      "Converting back to AnnData...\n"
     ]
    },
    {
     "data": {
      "text/plain": [
       "AnnData object with n_obs × n_vars = 1054 × 564\n",
       "    uns: 'log1p', 'metagenomics_shotgun-var_neighbors_gmgm', 'obs_neighbors_gmgm', 'var_neighbors_gmgm'\n",
       "    obsp: 'obs_gmgm_connectivities'\n",
       "    varp: 'metagenomics_shotgun-var_gmgm_connectivities', 'var_gmgm_connectivities'"
      ]
     },
     "execution_count": 21,
     "metadata": {},
     "output_type": "execute_result"
    }
   ],
   "source": [
    "GmGM(\n",
    "    mudata[\"metagenomics_shotgun\"],\n",
    "    verbose=True,\n",
    "    use_nonparanormal_skeptic=True,\n",
    "    #nonparanormal_evec_backend=\"COCA\",\n",
    "    #n_comps=50,\n",
    "    to_keep={\n",
    "        \"var\": 1200 / 564**2,\n",
    "        \"obs\": 1054 / 1054**2\n",
    "    },\n",
    "    threshold_method=\"overall\",\n",
    "    random_state=0\n",
    ")"
   ]
  },
  {
   "cell_type": "code",
   "execution_count": 22,
   "metadata": {},
   "outputs": [
    {
     "data": {
      "text/plain": [
       "{'Phylum': -0.01083183431730019,\n",
       " 'Class': 0.0038790432750807546,\n",
       " 'Order': 0.012346823692702196,\n",
       " 'Family': 0.010306609993891774,\n",
       " 'Genus': -0.01737953363222772}"
      ]
     },
     "execution_count": 22,
     "metadata": {},
     "output_type": "execute_result"
    }
   ],
   "source": [
    "calculate_assortativity(mudata[\"metagenomics_shotgun\"])"
   ]
  },
  {
   "cell_type": "code",
   "execution_count": 23,
   "metadata": {},
   "outputs": [
    {
     "data": {
      "text/plain": [
       "0.2696349791000003"
      ]
     },
     "execution_count": 23,
     "metadata": {},
     "output_type": "execute_result"
    }
   ],
   "source": [
    "def to_time() -> None:\n",
    "    GmGM(\n",
    "        mudata[\"metagenomics_shotgun\"],\n",
    "        use_nonparanormal_skeptic=True,\n",
    "        #nonparanormal_evec_backend=\"COCA\",\n",
    "        #n_comps=50,\n",
    "        to_keep={\n",
    "            \"var\": 1200 / 564**2,\n",
    "            \"obs\": 1054 / 1054**2\n",
    "        },\n",
    "        threshold_method=\"overall\"\n",
    "    )\n",
    "\n",
    "np.mean(timeit.repeat(to_time, number=1, repeat=10))"
   ]
  },
  {
   "cell_type": "markdown",
   "metadata": {},
   "source": [
    "## w/o nonpara, w/o metabol, 50pc"
   ]
  },
  {
   "cell_type": "code",
   "execution_count": 24,
   "metadata": {},
   "outputs": [
    {
     "name": "stdout",
     "output_type": "stream",
     "text": [
      "Centering...\n",
      "Calculating eigenvectors...\n",
      "\tby calculating SVD...\n",
      "Calculating eigenvalues...\n",
      "@0: 13946002.146203084 (-1686.312356038847 + 13947688.458559122 + 0) ∆inf\n",
      "Converged! (@16: 8755450.68054035)\n",
      "Recomposing sparse precisions...\n",
      "Converting back to AnnData...\n"
     ]
    },
    {
     "data": {
      "text/plain": [
       "AnnData object with n_obs × n_vars = 1054 × 564\n",
       "    uns: 'log1p', 'metagenomics_shotgun-var_neighbors_gmgm', 'obs_neighbors_gmgm', 'var_neighbors_gmgm'\n",
       "    obsp: 'obs_gmgm_connectivities'\n",
       "    varp: 'metagenomics_shotgun-var_gmgm_connectivities', 'var_gmgm_connectivities'"
      ]
     },
     "execution_count": 24,
     "metadata": {},
     "output_type": "execute_result"
    }
   ],
   "source": [
    "GmGM(\n",
    "    mudata[\"metagenomics_shotgun\"],\n",
    "    verbose=True,\n",
    "    #use_nonparanormal_skeptic=True,\n",
    "    #nonparanormal_evec_backend=\"COCA\",\n",
    "    n_comps=50,\n",
    "    to_keep={\n",
    "        \"var\": 1200 / 564**2,\n",
    "        \"obs\": 1054 / 1054**2\n",
    "    },\n",
    "    threshold_method=\"overall\",\n",
    "    random_state=0\n",
    ")"
   ]
  },
  {
   "cell_type": "code",
   "execution_count": 25,
   "metadata": {},
   "outputs": [
    {
     "data": {
      "text/plain": [
       "{'Phylum': 0.2118695284798763,\n",
       " 'Class': 0.2082903370213568,\n",
       " 'Order': 0.005898317258947495,\n",
       " 'Family': -0.0072243868296697844,\n",
       " 'Genus': 0.03619080034129565}"
      ]
     },
     "execution_count": 25,
     "metadata": {},
     "output_type": "execute_result"
    }
   ],
   "source": [
    "calculate_assortativity(mudata[\"metagenomics_shotgun\"])"
   ]
  },
  {
   "cell_type": "code",
   "execution_count": 26,
   "metadata": {},
   "outputs": [
    {
     "data": {
      "text/plain": [
       "0.09322528740000138"
      ]
     },
     "execution_count": 26,
     "metadata": {},
     "output_type": "execute_result"
    }
   ],
   "source": [
    "def to_time() -> None:\n",
    "    GmGM(\n",
    "        mudata[\"metagenomics_shotgun\"],\n",
    "        #use_nonparanormal_skeptic=True,\n",
    "        #nonparanormal_evec_backend=\"COCA\",\n",
    "        n_comps=50,\n",
    "        to_keep={\n",
    "            \"var\": 1200 / 564**2,\n",
    "            \"obs\": 1054 / 1054**2\n",
    "        },\n",
    "        threshold_method=\"overall\"\n",
    "    )\n",
    "\n",
    "np.mean(timeit.repeat(to_time, number=1, repeat=10))"
   ]
  },
  {
   "cell_type": "markdown",
   "metadata": {},
   "source": [
    "## w/ nonpara, w/o metabol, 50pc"
   ]
  },
  {
   "cell_type": "code",
   "execution_count": 27,
   "metadata": {},
   "outputs": [
    {
     "name": "stdout",
     "output_type": "stream",
     "text": [
      "Centering...\n",
      "Calculating eigenvectors...\n",
      "\tby calculating left eigenvectors of concatenated matricizations...\n",
      "Calculating eigenvalues...\n",
      "@0: 539020.7678061449 (-1718.0169078912443 + 540738.7847140362 + 0) ∆inf\n",
      "Converged! (@19: 342570.79736465815)\n",
      "Recomposing sparse precisions...\n",
      "Converting back to AnnData...\n"
     ]
    },
    {
     "data": {
      "text/plain": [
       "AnnData object with n_obs × n_vars = 1054 × 564\n",
       "    uns: 'log1p', 'metagenomics_shotgun-var_neighbors_gmgm', 'obs_neighbors_gmgm', 'var_neighbors_gmgm'\n",
       "    obsp: 'obs_gmgm_connectivities'\n",
       "    varp: 'metagenomics_shotgun-var_gmgm_connectivities', 'var_gmgm_connectivities'"
      ]
     },
     "execution_count": 27,
     "metadata": {},
     "output_type": "execute_result"
    }
   ],
   "source": [
    "GmGM(\n",
    "    mudata[\"metagenomics_shotgun\"],\n",
    "    verbose=True,\n",
    "    use_nonparanormal_skeptic=True,\n",
    "    nonparanormal_evec_backend=\"COCA\",\n",
    "    n_comps=50,\n",
    "    to_keep={\n",
    "        \"var\": 1200 / 564**2,\n",
    "        \"obs\": 1054 / 1054**2\n",
    "    },\n",
    "    threshold_method=\"overall\",\n",
    "    random_state=0\n",
    ")"
   ]
  },
  {
   "cell_type": "code",
   "execution_count": 28,
   "metadata": {},
   "outputs": [
    {
     "data": {
      "text/plain": [
       "{'Phylum': 0.16014617484457577,\n",
       " 'Class': 0.17047380597786582,\n",
       " 'Order': -0.0077096433385532735,\n",
       " 'Family': 0.009502401204151589,\n",
       " 'Genus': 0.030636717759824624}"
      ]
     },
     "execution_count": 28,
     "metadata": {},
     "output_type": "execute_result"
    }
   ],
   "source": [
    "calculate_assortativity(mudata[\"metagenomics_shotgun\"])"
   ]
  },
  {
   "cell_type": "code",
   "execution_count": 29,
   "metadata": {},
   "outputs": [
    {
     "data": {
      "text/plain": [
       "1.377092974800003"
      ]
     },
     "execution_count": 29,
     "metadata": {},
     "output_type": "execute_result"
    }
   ],
   "source": [
    "def to_time() -> None:\n",
    "    GmGM(\n",
    "        mudata[\"metagenomics_shotgun\"],\n",
    "        use_nonparanormal_skeptic=True,\n",
    "        nonparanormal_evec_backend=\"COCA\",\n",
    "        n_comps=50,\n",
    "        to_keep={\n",
    "            \"var\": 1200 / 564**2,\n",
    "            \"obs\": 1054 / 1054**2\n",
    "        },\n",
    "        threshold_method=\"overall\"\n",
    "    )\n",
    "\n",
    "np.mean(timeit.repeat(to_time, number=1, repeat=10))"
   ]
  },
  {
   "cell_type": "markdown",
   "metadata": {},
   "source": [
    "# TeraLasso"
   ]
  },
  {
   "cell_type": "markdown",
   "metadata": {},
   "source": [
    "## w/o nonpara w/o metabol"
   ]
  },
  {
   "cell_type": "code",
   "execution_count": 30,
   "metadata": {},
   "outputs": [
    {
     "name": "stderr",
     "output_type": "stream",
     "text": [
      "/Users/baileyandrew/mambaforge/envs/GmGM-python-accelerate/lib/python3.9/site-packages/GmGM/dataset.py:656: UserWarning: `use_highly_variable` was set to True but no highly variable indices were provided for axis 'obs'.  Thus we will use all indices for this axis.\n",
      "  warnings.warn(\n",
      "/Users/baileyandrew/mambaforge/envs/GmGM-python-accelerate/lib/python3.9/site-packages/GmGM/dataset.py:656: UserWarning: `use_highly_variable` was set to True but no highly variable indices were provided for axis 'var'.  Thus we will use all indices for this axis.\n",
      "  warnings.warn(\n"
     ]
    },
    {
     "data": {
      "text/plain": [
       "AnnData object with n_obs × n_vars = 1054 × 564\n",
       "    uns: 'log1p', 'metagenomics_shotgun-var_neighbors_gmgm', 'obs_neighbors_gmgm', 'var_neighbors_gmgm'\n",
       "    obsp: 'obs_gmgm_connectivities'\n",
       "    varp: 'metagenomics_shotgun-var_gmgm_connectivities', 'var_gmgm_connectivities'"
      ]
     },
     "execution_count": 30,
     "metadata": {},
     "output_type": "execute_result"
    }
   ],
   "source": [
    "ds = Dataset.from_AnnData(mudata[\"metagenomics_shotgun\"])\n",
    "# Changing this to 94.235 yields 4074, a big difference!\n",
    "# But 94.24 yields 2774 and 94.23 yields 3014 so it is very nonmonotonic\n",
    "# And 10 takes 70 minutes!!\n",
    "TeraLasso(\n",
    "    ds,\n",
    "    94.23\n",
    "    #use_nonparanormal_skeptic=True,\n",
    ")\n",
    "test = ds.to_AnnData()\n",
    "test"
   ]
  },
  {
   "cell_type": "code",
   "execution_count": 31,
   "metadata": {},
   "outputs": [
    {
     "data": {
      "text/plain": [
       "318096"
      ]
     },
     "execution_count": 31,
     "metadata": {},
     "output_type": "execute_result"
    }
   ],
   "source": [
    "# want 1200 * 2 + 564 = 2964\n",
    "564 * 564"
   ]
  },
  {
   "cell_type": "code",
   "execution_count": 32,
   "metadata": {},
   "outputs": [
    {
     "data": {
      "text/plain": [
       "<564x564 sparse array of type '<class 'numpy.float64'>'\n",
       "\twith 3178 stored elements in Compressed Sparse Row format>"
      ]
     },
     "execution_count": 32,
     "metadata": {},
     "output_type": "execute_result"
    }
   ],
   "source": [
    "test.varp[\"var_gmgm_connectivities\"]"
   ]
  },
  {
   "cell_type": "code",
   "execution_count": 33,
   "metadata": {},
   "outputs": [
    {
     "data": {
      "text/plain": [
       "{'Phylum': -0.04495282111959147,\n",
       " 'Class': -0.03472514308788115,\n",
       " 'Order': 0.025903799449613903,\n",
       " 'Family': 0.016677534158937593,\n",
       " 'Genus': -0.009260247972319766}"
      ]
     },
     "execution_count": 33,
     "metadata": {},
     "output_type": "execute_result"
    }
   ],
   "source": [
    "calculate_assortativity(test)"
   ]
  },
  {
   "cell_type": "code",
   "execution_count": 35,
   "metadata": {},
   "outputs": [
    {
     "data": {
      "text/plain": [
       "34.842702662499995"
      ]
     },
     "execution_count": 35,
     "metadata": {},
     "output_type": "execute_result"
    }
   ],
   "source": [
    "def to_time() -> None:\n",
    "    ds = Dataset.from_AnnData(mudata[\"metagenomics_shotgun\"])\n",
    "    # Changing this to 94.235 yields 4074, a big difference!\n",
    "    # But 94.24 yields 2774 and 94.23 yields 3014 so it is very nonmonotonic\n",
    "    # And 10 takes 70 minutes!!\n",
    "    TeraLasso(\n",
    "        ds,\n",
    "        94.23\n",
    "        #use_nonparanormal_skeptic=True,\n",
    "    )\n",
    "\n",
    "np.mean(timeit.repeat(to_time, number=1, repeat=10))"
   ]
  },
  {
   "cell_type": "markdown",
   "metadata": {},
   "source": [
    "## w/ nonpara w/o metabol"
   ]
  },
  {
   "cell_type": "code",
   "execution_count": null,
   "metadata": {},
   "outputs": [
    {
     "name": "stderr",
     "output_type": "stream",
     "text": [
      "/Users/baileyandrew/mambaforge/envs/GmGM-python-demo/lib/python3.9/site-packages/GmGM/dataset.py:656: UserWarning: `use_highly_variable` was set to True but no highly variable indices were provided for axis 'obs'.  Thus we will use all indices for this axis.\n",
      "  warnings.warn(\n",
      "/Users/baileyandrew/mambaforge/envs/GmGM-python-demo/lib/python3.9/site-packages/GmGM/dataset.py:656: UserWarning: `use_highly_variable` was set to True but no highly variable indices were provided for axis 'var'.  Thus we will use all indices for this axis.\n",
      "  warnings.warn(\n"
     ]
    },
    {
     "data": {
      "text/plain": [
       "AnnData object with n_obs × n_vars = 1054 × 564\n",
       "    uns: 'log1p', 'metagenomics_shotgun-var_neighbors_gmgm', 'obs_neighbors_gmgm', 'var_neighbors_gmgm'\n",
       "    obsp: 'obs_gmgm_connectivities'\n",
       "    varp: 'metagenomics_shotgun-var_gmgm_connectivities', 'var_gmgm_connectivities'"
      ]
     },
     "execution_count": 35,
     "metadata": {},
     "output_type": "execute_result"
    }
   ],
   "source": [
    "ds = Dataset.from_AnnData(mudata[\"metagenomics_shotgun\"])\n",
    "# Seems to produce no result for 2e-8, full result for 1.75e-8\n",
    "# 1.9e-8 gives 572, 1.8e-9 gives 576\n",
    "TeraLasso(\n",
    "    ds,\n",
    "    2e-8,\n",
    "    use_nonparanormal_skeptic=True,\n",
    ")\n",
    "test = ds.to_AnnData()\n",
    "test"
   ]
  },
  {
   "cell_type": "code",
   "execution_count": null,
   "metadata": {},
   "outputs": [
    {
     "data": {
      "text/plain": [
       "<564x564 sparse array of type '<class 'numpy.float64'>'\n",
       "\twith 564 stored elements in Compressed Sparse Row format>"
      ]
     },
     "execution_count": 36,
     "metadata": {},
     "output_type": "execute_result"
    }
   ],
   "source": [
    "test.varp[\"var_gmgm_connectivities\"]"
   ]
  },
  {
   "cell_type": "code",
   "execution_count": null,
   "metadata": {},
   "outputs": [
    {
     "data": {
      "text/plain": [
       "{'Phylum': nan, 'Class': nan, 'Order': nan, 'Family': nan, 'Genus': nan}"
      ]
     },
     "execution_count": 37,
     "metadata": {},
     "output_type": "execute_result"
    }
   ],
   "source": [
    "calculate_assortativity(test)"
   ]
  },
  {
   "cell_type": "markdown",
   "metadata": {},
   "source": [
    "# GmGM + Wishart Prior\n",
    "\n",
    "Seems to not do as well as the 50pc ones"
   ]
  },
  {
   "cell_type": "code",
   "execution_count": 87,
   "metadata": {},
   "outputs": [],
   "source": [
    "# Crate prior connecting species in the same phylum\n",
    "base = np.array(taxmat[\"Phylum\"].cat.codes)[np.newaxis]\n",
    "prior = (base == base.T).astype(float)\n",
    "np.fill_diagonal(prior, 1.1)"
   ]
  },
  {
   "cell_type": "code",
   "execution_count": 37,
   "metadata": {},
   "outputs": [
    {
     "data": {
      "text/plain": [
       "(564, 564)"
      ]
     },
     "execution_count": 37,
     "metadata": {},
     "output_type": "execute_result"
    }
   ],
   "source": [
    "prior.shape"
   ]
  },
  {
   "cell_type": "code",
   "execution_count": 38,
   "metadata": {},
   "outputs": [
    {
     "data": {
      "text/plain": [
       "<GmGM.extras.prior.Wishart at 0x14d6aa7f0>"
      ]
     },
     "execution_count": 38,
     "metadata": {},
     "output_type": "execute_result"
    }
   ],
   "source": [
    "from GmGM.extras.prior import Wishart\n",
    "Wishart(degrees_of_freedom=565, scale_matrix=prior)"
   ]
  },
  {
   "cell_type": "code",
   "execution_count": 41,
   "metadata": {},
   "outputs": [
    {
     "name": "stdout",
     "output_type": "stream",
     "text": [
      "Centering...\n",
      "Calculating eigenvectors...\n",
      "\tby calculating gram matrices and then eigendecomposing...\n",
      "Calculating eigenvectors for axis='obs'\n",
      "Calculating eigenvectors for axis='metagenomics_shotgun-var'\n",
      "Calculating eigenvectors for axis='metabolomics-var'\n",
      "Calculating eigenvalues...\n",
      "@0: -2012186.3188758958 (-2012196.156618618 + 9.837742722098143 + 0) ∆inf\n",
      "@100: -4000111.173661599 (-4000140.4846803457 + 29.31101874671051 + 0) ∆0.01015944440468236\n",
      "@200: -4416440.288689271 (-4416472.143440389 + 31.854751118273022 + 0) ∆5.557057901671376e-06\n",
      "@300: -5117856.38038931 (-5118092.576344956 + 236.19595564541004 + 0) ∆0.0023056792894915693\n",
      "@400: -5812650.093667895 (-5812727.400168344 + 77.30650045019614 + 0) ∆9.047376396690277e-05\n",
      "@500: -5923729.293485547 (-5923798.099478133 + 68.80599258559872 + 0) ∆7.289930480091812e-07\n",
      "@600: -5980733.627254723 (-5980803.93550007 + 70.30824534782006 + 0) ∆7.143961228600417e-05\n",
      "@700: -6021514.194514115 (-6021585.576776063 + 71.38226194808793 + 0) ∆6.52734119159628e-07\n",
      "@800: -6062707.342826321 (-6062779.925408969 + 72.58258264833334 + 0) ∆6.3749825893972045e-06\n",
      "@900: -6103147.613821024 (-6103221.357334418 + 73.7435133945389 + 0) ∆6.006516498253651e-06\n",
      "@1000: -6140155.610223 (-6140230.460390829 + 74.85016782853246 + 0) ∆5.74862014872781e-06\n",
      "@1100: -6174428.603610947 (-6174504.4933408 + 75.88972985253876 + 0) ∆5.504000189084509e-06\n",
      "@1200: -6342956.143641613 (-6343062.080003232 + 105.9363616187797 + 0) ∆0.00046036361708226786\n",
      "@1300: -6402376.079525563 (-6402460.025556964 + 83.94603140138881 + 0) ∆3.562455694360826e-07\n",
      "@1400: -6434606.58574345 (-6434691.916437741 + 85.33069429179763 + 0) ∆0.00041985861806789206\n",
      "@1500: -6464463.478924873 (-6464549.482853113 + 86.0039282399093 + 0) ∆2.8998725804030153e-07\n",
      "@1600: -6485012.5911285095 (-6485099.297027845 + 86.70589933514589 + 0) ∆3.2280174224642367e-07\n",
      "@1700: -6511980.677210475 (-6512069.453461552 + 88.77625107664292 + 0) ∆3.2772896196653307e-07\n",
      "@1800: -6538909.586768397 (-6538999.316654402 + 89.72988600487066 + 0) ∆3.416557598329152e-06\n",
      "@1900: -6568789.010690063 (-6568879.68982235 + 90.67913228644623 + 0) ∆3.2713635325454617e-07\n",
      "@2000: -6589139.66183228 (-6589231.378254352 + 91.71642207146395 + 0) ∆0.00034499291212170745\n",
      "@2100: -6606285.110267918 (-6606377.462358693 + 92.35209077518384 + 0) ∆0.00033598421110648765\n",
      "@2200: -6623570.538898503 (-6623663.343483277 + 92.80458477337007 + 0) ∆3.02983439425433e-06\n",
      "@2300: -6645336.045118536 (-6645429.622119895 + 93.57700135970148 + 0) ∆2.9496842384389173e-06\n",
      "@2400: -6682193.3723526895 (-6682298.367333039 + 104.99498034957384 + 0) ∆0.0002915354769741445\n",
      "@2500: -6719043.11098493 (-6719141.546990053 + 98.43600512261777 + 0) ∆2.2022877022069305e-07\n",
      "@2600: -6736122.772588394 (-6736221.899073247 + 99.12648485317001 + 0) ∆2.6383957177546446e-06\n",
      "@2700: -6755006.401371614 (-6755106.408172114 + 100.00680049993571 + 0) ∆0.00027997459099950313\n",
      "@2800: -6770124.02051295 (-6770224.210024919 + 100.18951196992843 + 0) ∆1.8047108203306984e-07\n",
      "@2900: -6786754.474754463 (-6786855.247508133 + 100.77275366976235 + 0) ∆1.590666464556862e-07\n",
      "@3000: -6802454.265586618 (-6802555.59679907 + 101.33121245169784 + 0) ∆2.186945432369966e-06\n",
      "@3100: -6820393.596929163 (-6820496.040104544 + 102.44317538127373 + 0) ∆2.3819708881275498e-05\n",
      "@3200: -6841916.637047392 (-6842024.304540224 + 107.66749283234503 + 0) ∆0.00027233362031797844\n",
      "@3300: -6855206.630346222 (-6855311.142542837 + 104.5121966153337 + 0) ∆1.824675515546878e-07\n",
      "@3400: -6868141.728243889 (-6868246.707522532 + 104.97927864251578 + 0) ∆2.1939747239896576e-06\n",
      "@3500: -6883161.051194132 (-6883266.599326292 + 105.54813215985331 + 0) ∆2.167864221335089e-06\n",
      "@3600: -6895912.049151291 (-6896018.115491549 + 106.0663402574926 + 0) ∆2.147180472193619e-05\n",
      "@3700: -6916018.984452618 (-6916125.702835757 + 106.71838313880276 + 0) ∆2.0753667993241824e-06\n",
      "@3800: -6929793.121946107 (-6929900.25262839 + 107.13068228267711 + 0) ∆1.1421717860245796e-07\n",
      "@3900: -6963888.553428957 (-6963996.959488224 + 108.40605926718919 + 0) ∆2.152736019586663e-05\n",
      "@4000: -6976666.71466009 (-6976776.0869041635 + 109.37224407262066 + 0) ∆1.9211997838246375e-06\n",
      "@4100: -6988247.022649868 (-6988356.86667487 + 109.84402500227037 + 0) ∆0.00020623346148855508\n",
      "@4200: -7020379.881668153 (-7020495.212024689 + 115.33035653555524 + 0) ∆1.6489740731741288e-07\n",
      "@4300: -7040419.982444133 (-7040532.157560391 + 112.1751162582754 + 0) ∆1.6990284393794668e-06\n",
      "@4400: -7061509.881927535 (-7061623.712896757 + 113.83096922218057 + 0) ∆1.6945324806940763e-06\n",
      "@4500: -7074810.589108323 (-7074924.862136786 + 114.27302846341478 + 0) ∆1.2871429741532547e-07\n",
      "@4600: -7086259.812066508 (-7086374.511877231 + 114.69981072295096 + 0) ∆8.018097185820097e-08\n",
      "@4700: -7112766.459192829 (-7112883.441147411 + 116.98195458174202 + 0) ∆1.611356701858337e-05\n",
      "@4800: -7126874.013708558 (-7126991.060746137 + 117.04703757895713 + 0) ∆1.202560444879166e-07\n",
      "@4900: -7137774.516768243 (-7137891.99942125 + 117.48265300687467 + 0) ∆1.4958849263217968e-06\n",
      "@5000: -7157852.257318143 (-7157970.4866502555 + 118.22933211229319 + 0) ∆1.1200115410216988e-07\n",
      "@5100: -7167762.644546272 (-7167881.795062618 + 119.15051634601718 + 0) ∆7.324383839050721e-08\n",
      "@5200: -7256964.953615781 (-7257102.73653927 + 137.78292348910028 + 0) ∆1.2700287858966537e-06\n",
      "@5300: -7273846.425138041 (-7273971.232964087 + 124.80782604607205 + 0) ∆9.832948843030738e-08\n",
      "@5400: -7288228.749717279 (-7288354.272840846 + 125.52312356689563 + 0) ∆1.2419338596359403e-06\n",
      "@5500: -7297872.565615006 (-7297998.850467568 + 126.28485256225223 + 0) ∆1.2418360730190578e-06\n",
      "@5600: -7308025.6439873045 (-7308152.211914569 + 126.56792726463529 + 0) ∆9.431059680187764e-08\n",
      "@5700: -7317640.907976799 (-7317768.225817973 + 127.31784117363162 + 0) ∆3.4937091360159484e-08\n",
      "@5800: -7326897.309651047 (-7327024.985647878 + 127.67599683077214 + 0) ∆8.527804748320398e-08\n",
      "@5900: -7337537.924554814 (-7337666.013615119 + 128.0890603059295 + 0) ∆8.531272398211508e-08\n",
      "@6000: -7348362.661744751 (-7348492.339778369 + 129.67803361818153 + 0) ∆9.85821002089805e-08\n",
      "@6100: -7356991.58220817 (-7357121.601585797 + 130.01937762784962 + 0) ∆1.1053546070144235e-06\n",
      "@6200: -7366640.843232816 (-7366771.2803637395 + 130.43713092364362 + 0) ∆1.1253195919962646e-06\n",
      "@6300: -7374025.1443230985 (-7374155.773829212 + 130.62950611370226 + 0) ∆6.018191967752589e-08\n",
      "@6400: -7383429.972017123 (-7383561.583267568 + 131.6112504441383 + 0) ∆1.1159650972494132e-05\n",
      "@6500: -7394202.958172159 (-7394334.790919527 + 131.83274736769738 + 0) ∆9.178604611660125e-08\n",
      "@6600: -7408814.676907324 (-7408947.060175238 + 132.3832679139499 + 0) ∆7.38344051354555e-08\n",
      "@6700: -7428027.354726223 (-7428319.180150361 + 291.8254241371207 + 0) ∆0.00011655234459829748\n",
      "@6800: -7486932.286828609 (-7487088.596378978 + 156.30955036935828 + 0) ∆1.0065026017723831e-05\n",
      "@6900: -7502565.459356539 (-7502704.151825678 + 138.69246913840698 + 0) ∆9.413642024700314e-07\n",
      "@7000: -7509043.032430111 (-7509181.84956431 + 138.81713419866287 + 0) ∆9.194110384065082e-06\n",
      "@7100: -7517050.065307428 (-7517189.5779474275 + 139.51263999962205 + 0) ∆7.684176781051157e-08\n",
      "@7200: -7523462.092902089 (-7523601.836269829 + 139.7433677411153 + 0) ∆6.642713129542331e-08\n",
      "@7300: -7559030.461849515 (-7559177.799993986 + 147.33814447129126 + 0) ∆8.968136422496554e-06\n",
      "@7400: -7567369.80323593 (-7567511.784338286 + 141.9811023557553 + 0) ∆8.381244121133888e-07\n",
      "@7500: -7573479.514715853 (-7573621.898269686 + 142.3835538328281 + 0) ∆4.38897070361219e-08\n",
      "Converged! (@7546: -7576087.106726605)\n",
      "Recomposing sparse precisions...\n",
      "Converting back to MuData...\n"
     ]
    },
    {
     "name": "stderr",
     "output_type": "stream",
     "text": [
      "/Users/baileyandrew/mambaforge/envs/GmGM-python-accelerate/lib/python3.9/site-packages/GmGM/core/presparse_methods.py:207: UserWarning: Found negative eigenvalues in axis metabolomics-var\n",
      "Setting them to 0\n",
      "  warnings.warn(\n"
     ]
    },
    {
     "data": {
      "text/html": [
       "<pre>MuData object with n_obs × n_vars = 1054 × 1747\n",
       "  obs:\t&#x27;Gender&#x27;\n",
       "  uns:\t&#x27;obs_neighbors_gmgm&#x27;\n",
       "  obsp:\t&#x27;obs_gmgm_connectivities&#x27;\n",
       "  2 modalities\n",
       "    metabolomics:\t1054 x 1183\n",
       "      uns:\t&#x27;log1p&#x27;, &#x27;metabolomics-var_neighbors_gmgm&#x27;\n",
       "      varp:\t&#x27;metabolomics-var_gmgm_connectivities&#x27;\n",
       "    metagenomics_shotgun:\t1054 x 564\n",
       "      uns:\t&#x27;log1p&#x27;, &#x27;metagenomics_shotgun-var_neighbors_gmgm&#x27;, &#x27;obs_neighbors_gmgm&#x27;, &#x27;var_neighbors_gmgm&#x27;\n",
       "      obsp:\t&#x27;obs_gmgm_connectivities&#x27;\n",
       "      varp:\t&#x27;metagenomics_shotgun-var_gmgm_connectivities&#x27;, &#x27;var_gmgm_connectivities&#x27;</pre>"
      ],
      "text/plain": [
       "MuData object with n_obs × n_vars = 1054 × 1747\n",
       "  obs:\t'Gender'\n",
       "  uns:\t'obs_neighbors_gmgm'\n",
       "  obsp:\t'obs_gmgm_connectivities'\n",
       "  2 modalities\n",
       "    metabolomics:\t1054 x 1183\n",
       "      uns:\t'log1p', 'metabolomics-var_neighbors_gmgm'\n",
       "      varp:\t'metabolomics-var_gmgm_connectivities'\n",
       "    metagenomics_shotgun:\t1054 x 564\n",
       "      uns:\t'log1p', 'metagenomics_shotgun-var_neighbors_gmgm', 'obs_neighbors_gmgm', 'var_neighbors_gmgm'\n",
       "      obsp:\t'obs_gmgm_connectivities'\n",
       "      varp:\t'metagenomics_shotgun-var_gmgm_connectivities', 'var_gmgm_connectivities'"
      ]
     },
     "execution_count": 41,
     "metadata": {},
     "output_type": "execute_result"
    }
   ],
   "source": [
    "GmGM(\n",
    "    mudata,\n",
    "    verbose=True,\n",
    "    #use_nonparanormal_skeptic=True,\n",
    "    #nonparanormal_evec_backend=\"COCA\",\n",
    "    #n_comps=50,\n",
    "    to_keep={\n",
    "        \"metabolomics-var\": 1183 / 1183**2,\n",
    "        \"metagenomics_shotgun-var\": 1200 / 564**2,\n",
    "        \"obs\": 1054 / 1054**2\n",
    "    },\n",
    "    threshold_method=\"overall\",\n",
    "    random_state=0,\n",
    "    prior={\"metagenomics_shotgun-var\": Wishart(degrees_of_freedom=565, scale_matrix=prior)},\n",
    "    force_posdef=False,\n",
    "    tol=1e-8,\n",
    "    max_iter=10_000,\n",
    "    check_overstep_each_iter=True\n",
    ")"
   ]
  },
  {
   "cell_type": "code",
   "execution_count": 42,
   "metadata": {},
   "outputs": [
    {
     "data": {
      "text/plain": [
       "{'Phylum': 0.1627053922612525,\n",
       " 'Class': 0.10758731814697549,\n",
       " 'Order': 0.01708691206799438,\n",
       " 'Family': -0.0056812660115850705,\n",
       " 'Genus': -0.003569931804283743}"
      ]
     },
     "execution_count": 42,
     "metadata": {},
     "output_type": "execute_result"
    }
   ],
   "source": [
    "calculate_assortativity(mudata)"
   ]
  },
  {
   "cell_type": "code",
   "execution_count": 105,
   "metadata": {},
   "outputs": [
    {
     "name": "stdout",
     "output_type": "stream",
     "text": [
      "Centering...\n",
      "Calculating eigenvectors...\n",
      "\tby calculating gram matrices and then eigendecomposing...\n",
      "Calculating eigenvectors for axis='obs'\n",
      "Calculating eigenvectors for axis='metagenomics_shotgun-var'\n",
      "Calculating eigenvectors for axis='metabolomics-var'\n",
      "Calculating eigenvalues...\n",
      "@0: -2012156.0103766643 (-2012166.1222534997 + 10.111876835391195 + 0) ∆inf\n",
      "Converged! (@18: -2597254.786183384)\n",
      "Recomposing sparse precisions...\n",
      "Converting back to MuData...\n"
     ]
    },
    {
     "data": {
      "text/html": [
       "<pre>MuData object with n_obs × n_vars = 1054 × 1747\n",
       "  obs:\t&#x27;Gender&#x27;\n",
       "  uns:\t&#x27;obs_neighbors_gmgm&#x27;\n",
       "  obsp:\t&#x27;obs_gmgm_connectivities&#x27;\n",
       "  2 modalities\n",
       "    metabolomics:\t1054 x 1183\n",
       "      uns:\t&#x27;log1p&#x27;, &#x27;metabolomics-var_neighbors_gmgm&#x27;\n",
       "      varp:\t&#x27;metabolomics-var_gmgm_connectivities&#x27;\n",
       "    metagenomics_shotgun:\t1054 x 564\n",
       "      uns:\t&#x27;log1p&#x27;, &#x27;metagenomics_shotgun-var_neighbors_gmgm&#x27;, &#x27;obs_neighbors_gmgm&#x27;, &#x27;var_neighbors_gmgm&#x27;\n",
       "      obsp:\t&#x27;obs_gmgm_connectivities&#x27;\n",
       "      varp:\t&#x27;metagenomics_shotgun-var_gmgm_connectivities&#x27;, &#x27;var_gmgm_connectivities&#x27;</pre>"
      ],
      "text/plain": [
       "MuData object with n_obs × n_vars = 1054 × 1747\n",
       "  obs:\t'Gender'\n",
       "  uns:\t'obs_neighbors_gmgm'\n",
       "  obsp:\t'obs_gmgm_connectivities'\n",
       "  2 modalities\n",
       "    metabolomics:\t1054 x 1183\n",
       "      uns:\t'log1p', 'metabolomics-var_neighbors_gmgm'\n",
       "      varp:\t'metabolomics-var_gmgm_connectivities'\n",
       "    metagenomics_shotgun:\t1054 x 564\n",
       "      uns:\t'log1p', 'metagenomics_shotgun-var_neighbors_gmgm', 'obs_neighbors_gmgm', 'var_neighbors_gmgm'\n",
       "      obsp:\t'obs_gmgm_connectivities'\n",
       "      varp:\t'metagenomics_shotgun-var_gmgm_connectivities', 'var_gmgm_connectivities'"
      ]
     },
     "execution_count": 105,
     "metadata": {},
     "output_type": "execute_result"
    }
   ],
   "source": [
    "GmGM(\n",
    "    mudata,\n",
    "    verbose=True,\n",
    "    # use_nonparanormal_skeptic=True,\n",
    "    # nonparanormal_evec_backend=\"COCA\",\n",
    "    # n_comps=50,\n",
    "    to_keep={\n",
    "        \"metabolomics-var\": 0,\n",
    "        \"metagenomics_shotgun-var\": 3,\n",
    "        #\"metagenomics_shotgun-var\": 1200 / 564**2,\n",
    "        \"obs\": 0\n",
    "    },\n",
    "    #threshold_method=\"overall\",\n",
    "    threshold_method=\"rowwise\",\n",
    "    random_state=0,\n",
    "    prior={\"metagenomics_shotgun-var\": Wishart(degrees_of_freedom=565, scale_matrix=np.linalg.inv(prior))},\n",
    "    force_posdef=False,\n",
    "    check_overstep_each_iter=True,\n",
    ")"
   ]
  },
  {
   "cell_type": "code",
   "execution_count": 106,
   "metadata": {},
   "outputs": [
    {
     "data": {
      "text/plain": [
       "{'Phylum': 0.4712674151356942,\n",
       " 'Class': 0.3061729680472627,\n",
       " 'Order': 0.17896689454527723,\n",
       " 'Family': 0.04729381448986717,\n",
       " 'Genus': 0.003348427226214601}"
      ]
     },
     "execution_count": 106,
     "metadata": {},
     "output_type": "execute_result"
    }
   ],
   "source": [
    "calculate_assortativity(mudata)"
   ]
  }
 ],
 "metadata": {
  "kernelspec": {
   "display_name": "GmGM-python-demo",
   "language": "python",
   "name": "python3"
  },
  "language_info": {
   "codemirror_mode": {
    "name": "ipython",
    "version": 3
   },
   "file_extension": ".py",
   "mimetype": "text/x-python",
   "name": "python",
   "nbconvert_exporter": "python",
   "pygments_lexer": "ipython3",
   "version": "3.9.18"
  }
 },
 "nbformat": 4,
 "nbformat_minor": 2
}
