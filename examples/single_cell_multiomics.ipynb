{
 "cells": [
  {
   "cell_type": "markdown",
   "metadata": {},
   "source": [
    "# Single Cell Multiomics\n",
    "\n",
    "Modalities:\n",
    "- scRNA (Cells x Genes)\n",
    "- scATAC (Cells x Peaks)\n",
    "\n",
    "Axes:\n",
    "- Cells\n",
    "- Genes\n",
    "- Peaks"
   ]
  },
  {
   "cell_type": "markdown",
   "metadata": {},
   "source": [
    "## Install Packages\n",
    "\n",
    "```bash\n",
    "# Create environment\n",
    "conda create -n {YOUR ENVIRONMENT NAME} \"conda-forge::python>=3.9,<3.12\"\n",
    "conda activate {YOUR ENVIRONMENT NAME}\n",
    "\n",
    "# Install GmGM\n",
    "pip install gmgm\n",
    "\n",
    "# Install this example notebook's dependencies\n",
    "pip install scikit-misc\n",
    "conda install conda-forge::scanpy\n",
    "conda install conda-forge::muon\n",
    "conda install conda-forge::leidenalg\n",
    "```"
   ]
  },
  {
   "cell_type": "markdown",
   "metadata": {},
   "source": [
    "## Download Data"
   ]
  },
  {
   "cell_type": "markdown",
   "metadata": {},
   "source": [
    "From [10x Genomics](https://www.10xgenomics.com/resources/datasets/10-k-human-pbm-cs-multiome-v-1-0-chromium-x-1-standard-2-0-0), download the \"Filtered feature barcode matrix (HDF5)\" from the \"10k Human PBMCs, Multiome v1.0, Chromium X\" dataset (the one with the ID `10k_PBMC_Multiome_nextgem_Chromium_X`, [linked here](https://www.10xgenomics.com/resources/datasets/10-k-human-pbm-cs-multiome-v-1-0-chromium-x-1-standard-2-0-0))."
   ]
  },
  {
   "cell_type": "markdown",
   "metadata": {},
   "source": [
    "## Setup Code"
   ]
  },
  {
   "cell_type": "code",
   "execution_count": 1,
   "metadata": {},
   "outputs": [],
   "source": [
    "# ============ Parameters ============\n",
    "# Number of edges to have in our output graphs (GmGM and KNN)\n",
    "N_EDGES = 10\n",
    "# Random state for reproducibility\n",
    "RANDOM_STATE = 0\n",
    "# Number of principal components to use when using PCA or approximate GmGM\n",
    "N_COMPONENTS = 20"
   ]
  },
  {
   "cell_type": "code",
   "execution_count": 2,
   "metadata": {},
   "outputs": [],
   "source": [
    "# Ignore nonsense warnings from scanpy\n",
    "import warnings\n",
    "warnings.filterwarnings(\"ignore\", module=\"scanpy\")\n",
    "warnings.filterwarnings(\"ignore\", module=\"umap\")\n",
    "warnings.filterwarnings(\"ignore\", module=\"tqdm\")"
   ]
  },
  {
   "cell_type": "code",
   "execution_count": 3,
   "metadata": {},
   "outputs": [],
   "source": [
    "# Import GmGM\n",
    "from GmGM import GmGM, Dataset\n",
    "\n",
    "# `scanpy` is not a dependency of our algorithm, but we will use it for this example\n",
    "import scanpy as sc\n",
    "import muon as mu\n",
    "\n",
    "# Other dependencies, already installed by either GmGM or scanpy\n",
    "import anndata as ad\n",
    "import mudata as md\n",
    "import seaborn as sns\n",
    "import dask.array as da"
   ]
  },
  {
   "cell_type": "markdown",
   "metadata": {},
   "source": [
    "## Analyze"
   ]
  },
  {
   "cell_type": "code",
   "execution_count": 4,
   "metadata": {},
   "outputs": [
    {
     "name": "stderr",
     "output_type": "stream",
     "text": [
      "/Users/baileyandrew/mambaforge/envs/GmGM-python-demo/lib/python3.9/site-packages/anndata/_core/anndata.py:1899: UserWarning: Variable names are not unique. To make them unique, call `.var_names_make_unique`.\n",
      "  utils.warn_names_duplicates(\"var\")\n"
     ]
    },
    {
     "name": "stdout",
     "output_type": "stream",
     "text": [
      "Added `interval` annotation for features from ./data/10k_PBMC_Multiome_nextgem_Chromium_X_filtered_feature_bc_matrix.h5\n"
     ]
    },
    {
     "name": "stderr",
     "output_type": "stream",
     "text": [
      "/Users/baileyandrew/mambaforge/envs/GmGM-python-demo/lib/python3.9/site-packages/anndata/_core/anndata.py:1899: UserWarning: Variable names are not unique. To make them unique, call `.var_names_make_unique`.\n",
      "  utils.warn_names_duplicates(\"var\")\n",
      "/Users/baileyandrew/mambaforge/envs/GmGM-python-demo/lib/python3.9/site-packages/mudata/_core/mudata.py:479: UserWarning: var_names are not unique. To make them unique, call `.var_names_make_unique`.\n",
      "  warnings.warn(\n"
     ]
    },
    {
     "data": {
      "text/html": [
       "<pre>MuData object with n_obs × n_vars = 10970 × 148344\n",
       "  var:\t&#x27;gene_ids&#x27;, &#x27;feature_types&#x27;, &#x27;genome&#x27;, &#x27;interval&#x27;\n",
       "  2 modalities\n",
       "    rna:\t10970 x 36601\n",
       "      var:\t&#x27;gene_ids&#x27;, &#x27;feature_types&#x27;, &#x27;genome&#x27;, &#x27;interval&#x27;\n",
       "    atac:\t10970 x 111743\n",
       "      var:\t&#x27;gene_ids&#x27;, &#x27;feature_types&#x27;, &#x27;genome&#x27;, &#x27;interval&#x27;</pre>"
      ],
      "text/plain": [
       "MuData object with n_obs × n_vars = 10970 × 148344\n",
       "  var:\t'gene_ids', 'feature_types', 'genome', 'interval'\n",
       "  2 modalities\n",
       "    rna:\t10970 x 36601\n",
       "      var:\t'gene_ids', 'feature_types', 'genome', 'interval'\n",
       "    atac:\t10970 x 111743\n",
       "      var:\t'gene_ids', 'feature_types', 'genome', 'interval'"
      ]
     },
     "execution_count": 4,
     "metadata": {},
     "output_type": "execute_result"
    }
   ],
   "source": [
    "mdata: md.MuData = \\\n",
    "    mu.read_10x_h5(\"./data/10k_PBMC_Multiome_nextgem_Chromium_X_filtered_feature_bc_matrix.h5\")\n",
    "mdata"
   ]
  },
  {
   "cell_type": "code",
   "execution_count": 5,
   "metadata": {},
   "outputs": [
    {
     "name": "stderr",
     "output_type": "stream",
     "text": [
      "/Users/baileyandrew/mambaforge/envs/GmGM-python-demo/lib/python3.9/site-packages/mudata/_core/mudata.py:479: UserWarning: var_names are not unique. To make them unique, call `.var_names_make_unique`.\n",
      "  warnings.warn(\n"
     ]
    },
    {
     "data": {
      "text/html": [
       "<pre>MuData object with n_obs × n_vars = 10970 × 148344\n",
       "  var:\t&#x27;gene_ids&#x27;, &#x27;feature_types&#x27;, &#x27;genome&#x27;, &#x27;interval&#x27;, &#x27;highly_variable&#x27;, &#x27;means&#x27;, &#x27;dispersions&#x27;, &#x27;dispersions_norm&#x27;\n",
       "  2 modalities\n",
       "    rna:\t10970 x 36601\n",
       "      var:\t&#x27;gene_ids&#x27;, &#x27;feature_types&#x27;, &#x27;genome&#x27;, &#x27;interval&#x27;, &#x27;highly_variable&#x27;, &#x27;means&#x27;, &#x27;dispersions&#x27;, &#x27;dispersions_norm&#x27;\n",
       "      uns:\t&#x27;log1p&#x27;, &#x27;hvg&#x27;\n",
       "    atac:\t10970 x 111743\n",
       "      var:\t&#x27;gene_ids&#x27;, &#x27;feature_types&#x27;, &#x27;genome&#x27;, &#x27;interval&#x27;, &#x27;highly_variable&#x27;, &#x27;means&#x27;, &#x27;dispersions&#x27;, &#x27;dispersions_norm&#x27;\n",
       "      uns:\t&#x27;log1p&#x27;, &#x27;hvg&#x27;</pre>"
      ],
      "text/plain": [
       "MuData object with n_obs × n_vars = 10970 × 148344\n",
       "  var:\t'gene_ids', 'feature_types', 'genome', 'interval', 'highly_variable', 'means', 'dispersions', 'dispersions_norm'\n",
       "  2 modalities\n",
       "    rna:\t10970 x 36601\n",
       "      var:\t'gene_ids', 'feature_types', 'genome', 'interval', 'highly_variable', 'means', 'dispersions', 'dispersions_norm'\n",
       "      uns:\t'log1p', 'hvg'\n",
       "    atac:\t10970 x 111743\n",
       "      var:\t'gene_ids', 'feature_types', 'genome', 'interval', 'highly_variable', 'means', 'dispersions', 'dispersions_norm'\n",
       "      uns:\t'log1p', 'hvg'"
      ]
     },
     "execution_count": 5,
     "metadata": {},
     "output_type": "execute_result"
    }
   ],
   "source": [
    "sc.pp.log1p(mdata[\"rna\"])\n",
    "sc.pp.log1p(mdata[\"atac\"])\n",
    "sc.pp.highly_variable_genes(mdata[\"rna\"])\n",
    "sc.pp.highly_variable_genes(mdata[\"atac\"])\n",
    "mdata.update()\n",
    "mdata"
   ]
  },
  {
   "cell_type": "code",
   "execution_count": 6,
   "metadata": {},
   "outputs": [
    {
     "name": "stdout",
     "output_type": "stream",
     "text": [
      "Centering...\n"
     ]
    },
    {
     "name": "stderr",
     "output_type": "stream",
     "text": [
      "/Users/baileyandrew/mambaforge/envs/GmGM-python-demo/lib/python3.9/site-packages/GmGM/core/preprocessing.py:32: UserWarning: Dataset was sparse but `avg-overall` centering will desparsify it, consider using a different centering method.  Converting to dense array...\n",
      "  warnings.warn(\n"
     ]
    },
    {
     "name": "stdout",
     "output_type": "stream",
     "text": [
      "Calculating eigenvectors...\n",
      "\tby calculating left eigenvectors of concatenated matricizations...\n",
      "Calculating eigenvalues...\n",
      "@0: 29743623.02099571 (-549.4790042898392 + 29744172.5 + 0) ∆inf\n",
      "Converged! (@5: 29743623.02099571)\n",
      "Recomposing sparse precisions...\n",
      "Converting back to MuData...\n",
      "z\n",
      "z\n"
     ]
    },
    {
     "name": "stderr",
     "output_type": "stream",
     "text": [
      "/Users/baileyandrew/mambaforge/envs/GmGM-python-demo/lib/python3.9/site-packages/GmGM/dataset.py:503: UserWarning: `use_highly_variable` was set to True but no highly variable indices were provided for axis 'obs'.  Thus we will use all indices for this axis.\n",
      "  warnings.warn(\n"
     ]
    },
    {
     "data": {
      "text/html": [
       "<pre>MuData object with n_obs × n_vars = 10970 × 148344\n",
       "  var:\t&#x27;gene_ids&#x27;, &#x27;feature_types&#x27;, &#x27;genome&#x27;, &#x27;interval&#x27;, &#x27;highly_variable&#x27;, &#x27;means&#x27;, &#x27;dispersions&#x27;, &#x27;dispersions_norm&#x27;\n",
       "  uns:\t&#x27;obs_neighbors_gmgm&#x27;\n",
       "  obsp:\t&#x27;obs_gmgm_connectivities&#x27;\n",
       "  2 modalities\n",
       "    rna:\t10970 x 36601\n",
       "      var:\t&#x27;gene_ids&#x27;, &#x27;feature_types&#x27;, &#x27;genome&#x27;, &#x27;interval&#x27;, &#x27;highly_variable&#x27;, &#x27;means&#x27;, &#x27;dispersions&#x27;, &#x27;dispersions_norm&#x27;\n",
       "      uns:\t&#x27;log1p&#x27;, &#x27;hvg&#x27;, &#x27;rna-var_neighbors_gmgm&#x27;\n",
       "      varp:\t&#x27;rna-var_gmgm_connectivities&#x27;\n",
       "    atac:\t10970 x 111743\n",
       "      var:\t&#x27;gene_ids&#x27;, &#x27;feature_types&#x27;, &#x27;genome&#x27;, &#x27;interval&#x27;, &#x27;highly_variable&#x27;, &#x27;means&#x27;, &#x27;dispersions&#x27;, &#x27;dispersions_norm&#x27;\n",
       "      uns:\t&#x27;log1p&#x27;, &#x27;hvg&#x27;, &#x27;atac-var_neighbors_gmgm&#x27;\n",
       "      varp:\t&#x27;atac-var_gmgm_connectivities&#x27;</pre>"
      ],
      "text/plain": [
       "MuData object with n_obs × n_vars = 10970 × 148344\n",
       "  var:\t'gene_ids', 'feature_types', 'genome', 'interval', 'highly_variable', 'means', 'dispersions', 'dispersions_norm'\n",
       "  uns:\t'obs_neighbors_gmgm'\n",
       "  obsp:\t'obs_gmgm_connectivities'\n",
       "  2 modalities\n",
       "    rna:\t10970 x 36601\n",
       "      var:\t'gene_ids', 'feature_types', 'genome', 'interval', 'highly_variable', 'means', 'dispersions', 'dispersions_norm'\n",
       "      uns:\t'log1p', 'hvg', 'rna-var_neighbors_gmgm'\n",
       "      varp:\t'rna-var_gmgm_connectivities'\n",
       "    atac:\t10970 x 111743\n",
       "      var:\t'gene_ids', 'feature_types', 'genome', 'interval', 'highly_variable', 'means', 'dispersions', 'dispersions_norm'\n",
       "      uns:\t'log1p', 'hvg', 'atac-var_neighbors_gmgm'\n",
       "      varp:\t'atac-var_gmgm_connectivities'"
      ]
     },
     "execution_count": 6,
     "metadata": {},
     "output_type": "execute_result"
    }
   ],
   "source": [
    "# This dataset is very large so we will limit to highly variable genes and peaks\n",
    "# This takes about a minute.\n",
    "GmGM(\n",
    "    mdata,\n",
    "    centering_method=\"avg-overall\",\n",
    "    to_keep={\n",
    "        \"obs\": N_EDGES,\n",
    "        \"rna-var\": N_EDGES,\n",
    "        \"atac-var\": N_EDGES,\n",
    "    },\n",
    "    threshold_method=\"rowwise-col-weighted\",\n",
    "    verbose=True,\n",
    "    n_comps=N_COMPONENTS,\n",
    "    use_highly_variable=True\n",
    ")"
   ]
  },
  {
   "cell_type": "code",
   "execution_count": null,
   "metadata": {},
   "outputs": [],
   "source": []
  }
 ],
 "metadata": {
  "kernelspec": {
   "display_name": "GmGM-python-demo",
   "language": "python",
   "name": "python3"
  },
  "language_info": {
   "codemirror_mode": {
    "name": "ipython",
    "version": 3
   },
   "file_extension": ".py",
   "mimetype": "text/x-python",
   "name": "python",
   "nbconvert_exporter": "python",
   "pygments_lexer": "ipython3",
   "version": "3.9.16"
  }
 },
 "nbformat": 4,
 "nbformat_minor": 2
}
